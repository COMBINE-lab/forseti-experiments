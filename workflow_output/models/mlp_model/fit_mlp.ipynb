{
 "cells": [
  {
   "cell_type": "code",
   "execution_count": 1,
   "metadata": {
    "execution": {
     "iopub.execute_input": "2024-03-16T15:06:46.251421Z",
     "iopub.status.busy": "2024-03-16T15:06:46.251066Z",
     "iopub.status.idle": "2024-03-16T15:07:05.407318Z",
     "shell.execute_reply": "2024-03-16T15:07:05.406739Z"
    }
   },
   "outputs": [
    {
     "name": "stdout",
     "output_type": "stream",
     "text": [
      "{'parent_dir': 'workflow_output', 'PE_sheet': 'sample_url_sheet.csv', 'outdir': 'mlp_model', 'random_seed': 10, 'snr_len': 6, 'snr_mismatch': 1}\n"
     ]
    }
   ],
   "source": [
    "import os\n",
    "import pandas as pd\n",
    "import numpy as np\n",
    "import scipy.sparse as sp\n",
    "import json\n",
    "import random\n",
    "import regex\n",
    "from sklearn.neural_network import MLPClassifier\n",
    "from sklearn.preprocessing import OneHotEncoder\n",
    "from sklearn.metrics import accuracy_score\n",
    "import joblib\n",
    "import matplotlib.pyplot as plt\n",
    "import seaborn as sns\n",
    "import time\n",
    "\"\"\"\n",
    "This script trains a MLP classifier to predict the binding affinity of a 30 bases sequence w.r.t. the obtained priming window.\n",
    "\n",
    "The training data is obtained from the upstream 30 bases of the alignments of R1 in our paired-end read alignment results from the genome. The training data has the same orientation as its read2, so, it should contain a polyA site.\n",
    "As reads might come from polyA tails, which are not included in the genome, we would expect that some of the input data come from intergenic regions and do not correspond to a polyA site. This is saying our labels are noisy, so we would not expect to obtain perfect accuracy.\n",
    "\n",
    "We train a MLP classifier by reading the training data from each SRR and call `partial_fit` to update the model. \n",
    "\n",
    "\"\"\"\n",
    "\n",
    "parser = json.load(open(\"params.json\", \"r\"))\n",
    "parent_dir = parser[\"parent_dir\"]\n",
    "PE_sheet = parser[\"PE_sheet\"]\n",
    "random_seed = parser[\"random_seed\"]\n",
    "outdir= parser[\"outdir\"]\n",
    "snr_len = parser[\"snr_len\"]\n",
    "snr_mismatch = parser[\"snr_mismatch\"]\n",
    "\n",
    "print(parser)\n",
    "os.makedirs(outdir, exist_ok=True)"
   ]
  },
  {
   "cell_type": "code",
   "execution_count": 2,
   "metadata": {
    "execution": {
     "iopub.execute_input": "2024-03-16T15:07:05.448011Z",
     "iopub.status.busy": "2024-03-16T15:07:05.447660Z",
     "iopub.status.idle": "2024-03-16T15:07:07.024743Z",
     "shell.execute_reply": "2024-03-16T15:07:07.024235Z"
    }
   },
   "outputs": [
    {
     "name": "stdout",
     "output_type": "stream",
     "text": [
      "GSE122357\n",
      "GSE122743\n",
      "GSE125188\n"
     ]
    },
    {
     "name": "stdout",
     "output_type": "stream",
     "text": [
      "GSE125970\n",
      "GSE130636\n"
     ]
    },
    {
     "name": "stdout",
     "output_type": "stream",
     "text": [
      "GSE131736\n",
      "GSE134520\n"
     ]
    },
    {
     "name": "stdout",
     "output_type": "stream",
     "text": [
      "GSE135922\n"
     ]
    },
    {
     "name": "stdout",
     "output_type": "stream",
     "text": [
      "GSE144136\n",
      "GSE148504\n"
     ]
    }
   ],
   "source": [
    "\n",
    "encoder = OneHotEncoder(categories=[['A', 'C', 'G', 'T', 'N']] * 30, handle_unknown='ignore')\n",
    "\n",
    "parent_dir = parent_dir\n",
    "# 1----- Get the PE datasets spreadsheet\n",
    "PE_sheet = pd.read_csv(PE_sheet)\n",
    "\n",
    "# 2----- loop through GSE(s), combine all tlen from its SRR\n",
    "# check if we have all datasets processed\n",
    "missing_files = []\n",
    "\n",
    "for (GSE, group_gse_lst) in PE_sheet.groupby('GSE'):\n",
    "    SRR_lst = group_gse_lst['SRR']\n",
    "    for SRR in SRR_lst:\n",
    "        polya_path = os.path.join(\n",
    "            parent_dir, \"process_data\", \"frag_len_dist\", GSE, SRR, \"priming_site_seqs\", \"polya_seq.txt\")\n",
    "\n",
    "        if os.path.exists(polya_path):\n",
    "            check_file = os.path.getsize(polya_path)\n",
    "            if (check_file == 0):\n",
    "                missing_files.append(f\"{GSE}-{SRR}\")\n",
    "                error_occur = True\n",
    "        else:\n",
    "            missing_files.append(f\"{GSE}-{SRR}\")\n",
    "            error_occur = True\n",
    "\n",
    "if missing_files:\n",
    "    raise ValueError(f\"Please re-run the previous step, the output of following dataset(s) is either missing or empty: {missing_files}\")\n"
   ]
  },
  {
   "cell_type": "code",
   "execution_count": 3,
   "metadata": {
    "execution": {
     "iopub.execute_input": "2024-03-16T15:07:07.026784Z",
     "iopub.status.busy": "2024-03-16T15:07:07.026473Z",
     "iopub.status.idle": "2024-03-16T15:28:43.853985Z",
     "shell.execute_reply": "2024-03-16T15:28:43.853532Z"
    }
   },
   "outputs": [
    {
     "name": "stdout",
     "output_type": "stream",
     "text": [
      "Iteration 1, loss = 0.66836542\n",
      "Accuracy: 0.6885245901639344\n"
     ]
    },
    {
     "name": "stdout",
     "output_type": "stream",
     "text": [
      "Iteration 1, loss = 0.53811119\n",
      "Accuracy: 0.8040691608287375\n"
     ]
    },
    {
     "name": "stdout",
     "output_type": "stream",
     "text": [
      "Iteration 1, loss = 0.46762592\n",
      "Accuracy: 0.8008217993079585\n"
     ]
    },
    {
     "name": "stdout",
     "output_type": "stream",
     "text": [
      "Iteration 1, loss = 0.42007161\n",
      "Accuracy: 0.8360879231511389\n"
     ]
    },
    {
     "name": "stdout",
     "output_type": "stream",
     "text": [
      "Iteration 1, loss = 0.34802308\n",
      "Accuracy: 0.8680899054251909\n"
     ]
    },
    {
     "name": "stdout",
     "output_type": "stream",
     "text": [
      "Iteration 1, loss = 0.30050789\n",
      "Accuracy: 0.8887649683024184\n"
     ]
    },
    {
     "name": "stdout",
     "output_type": "stream",
     "text": [
      "Iteration 1, loss = 0.28585845\n",
      "Accuracy: 0.8996074879227053\n"
     ]
    },
    {
     "name": "stdout",
     "output_type": "stream",
     "text": [
      "Iteration 1, loss = 0.29762550\n",
      "Accuracy: 0.8932374100719425\n"
     ]
    },
    {
     "name": "stdout",
     "output_type": "stream",
     "text": [
      "Iteration 1, loss = 0.28604958\n",
      "Accuracy: 0.8973229673317759\n"
     ]
    },
    {
     "name": "stdout",
     "output_type": "stream",
     "text": [
      "Iteration 1, loss = 0.29168309\n",
      "Accuracy: 0.886648270006368\n"
     ]
    },
    {
     "name": "stdout",
     "output_type": "stream",
     "text": [
      "Iteration 1, loss = 0.28862218\n",
      "Accuracy: 0.8990558545839583\n"
     ]
    },
    {
     "name": "stdout",
     "output_type": "stream",
     "text": [
      "Iteration 1, loss = 0.28575475\n",
      "Accuracy: 0.9013401888064734\n"
     ]
    },
    {
     "name": "stdout",
     "output_type": "stream",
     "text": [
      "Iteration 1, loss = 0.27720466\n",
      "Accuracy: 0.9054488652026096\n",
      "Iteration 1, loss = 0.29016659\n",
      "Accuracy: 0.8991304347826087\n"
     ]
    },
    {
     "name": "stdout",
     "output_type": "stream",
     "text": [
      "Iteration 1, loss = 0.27276763\n"
     ]
    },
    {
     "name": "stdout",
     "output_type": "stream",
     "text": [
      "Accuracy: 0.8995526095662975\n"
     ]
    },
    {
     "name": "stdout",
     "output_type": "stream",
     "text": [
      "Iteration 1, loss = 0.26871747\n"
     ]
    },
    {
     "name": "stdout",
     "output_type": "stream",
     "text": [
      "Accuracy: 0.9002298898329144\n"
     ]
    },
    {
     "name": "stdout",
     "output_type": "stream",
     "text": [
      "Iteration 1, loss = 0.26001939\n"
     ]
    },
    {
     "name": "stdout",
     "output_type": "stream",
     "text": [
      "Accuracy: 0.9092819718980709\n"
     ]
    },
    {
     "name": "stdout",
     "output_type": "stream",
     "text": [
      "Iteration 1, loss = 0.25963096\n"
     ]
    },
    {
     "name": "stdout",
     "output_type": "stream",
     "text": [
      "Accuracy: 0.9130110453855416\n"
     ]
    },
    {
     "name": "stdout",
     "output_type": "stream",
     "text": [
      "Iteration 1, loss = 0.24774604\n"
     ]
    },
    {
     "name": "stdout",
     "output_type": "stream",
     "text": [
      "Accuracy: 0.9174573055028463\n"
     ]
    },
    {
     "name": "stdout",
     "output_type": "stream",
     "text": [
      "Iteration 1, loss = 0.24624450\n"
     ]
    },
    {
     "name": "stdout",
     "output_type": "stream",
     "text": [
      "Accuracy: 0.9160999554874129\n",
      "Iteration 1, loss = 0.33223185\n",
      "Accuracy: 0.8893156424581006\n"
     ]
    },
    {
     "name": "stdout",
     "output_type": "stream",
     "text": [
      "Iteration 1, loss = 0.30828171\n",
      "Accuracy: 0.8993633692458374\n",
      "Iteration 1, loss = 0.30991553\n",
      "Accuracy: 0.9024539877300614\n"
     ]
    },
    {
     "name": "stdout",
     "output_type": "stream",
     "text": [
      "Iteration 1, loss = 0.29135955\n",
      "Accuracy: 0.9009406231628454\n",
      "Iteration 1, loss = 0.28475729\n",
      "Accuracy: 0.9008955223880597\n"
     ]
    },
    {
     "name": "stdout",
     "output_type": "stream",
     "text": [
      "Iteration 1, loss = 0.31054901\n",
      "Accuracy: 0.8998357963875205\n",
      "Iteration 1, loss = 0.34461553\n",
      "Accuracy: 0.8806552262090483\n"
     ]
    },
    {
     "name": "stdout",
     "output_type": "stream",
     "text": [
      "Iteration 1, loss = 0.29661525\n",
      "Accuracy: 0.9046164290563475\n",
      "Iteration 1, loss = 0.29251975\n"
     ]
    },
    {
     "name": "stdout",
     "output_type": "stream",
     "text": [
      "Accuracy: 0.9069703622392975\n",
      "Iteration 1, loss = 0.31284408\n",
      "Accuracy: 0.8918918918918919\n"
     ]
    },
    {
     "name": "stdout",
     "output_type": "stream",
     "text": [
      "Iteration 1, loss = 0.29449196\n",
      "Training loss did not improve more than tol=0.000100 for 10 consecutive epochs. Stopping.\n",
      "Accuracy: 0.9070203644158628\n",
      "Iteration 1, loss = 0.27926270\n",
      "Training loss did not improve more than tol=0.000100 for 10 consecutive epochs. Stopping.\n",
      "Accuracy: 0.9046610169491526\n"
     ]
    },
    {
     "name": "stdout",
     "output_type": "stream",
     "text": [
      "Iteration 1, loss = 0.30034225\n",
      "Training loss did not improve more than tol=0.000100 for 10 consecutive epochs. Stopping.\n",
      "Accuracy: 0.9010416666666666\n",
      "Iteration 1, loss = 0.29130017\n",
      "Training loss did not improve more than tol=0.000100 for 10 consecutive epochs. Stopping.\n",
      "Accuracy: 0.9045424621461488\n"
     ]
    },
    {
     "name": "stdout",
     "output_type": "stream",
     "text": [
      "Iteration 1, loss = 0.29905171\n",
      "Training loss did not improve more than tol=0.000100 for 10 consecutive epochs. Stopping.\n",
      "Accuracy: 0.8993943472409152\n",
      "Iteration 1, loss = 0.29334260\n",
      "Training loss did not improve more than tol=0.000100 for 10 consecutive epochs. Stopping.\n",
      "Accuracy: 0.9046653144016227\n"
     ]
    },
    {
     "name": "stdout",
     "output_type": "stream",
     "text": [
      "Iteration 1, loss = 0.31738109\n",
      "Training loss did not improve more than tol=0.000100 for 10 consecutive epochs. Stopping.\n",
      "Accuracy: 0.8874107722258274\n",
      "Iteration 1, loss = 0.29947587\n",
      "Training loss did not improve more than tol=0.000100 for 10 consecutive epochs. Stopping.\n",
      "Accuracy: 0.8957858769931663\n"
     ]
    },
    {
     "name": "stdout",
     "output_type": "stream",
     "text": [
      "Iteration 1, loss = 0.29799442\n",
      "Training loss did not improve more than tol=0.000100 for 10 consecutive epochs. Stopping.\n",
      "Accuracy: 0.9007263922518159\n",
      "Iteration 1, loss = 0.28807178\n",
      "Training loss did not improve more than tol=0.000100 for 10 consecutive epochs. Stopping.\n"
     ]
    },
    {
     "name": "stdout",
     "output_type": "stream",
     "text": [
      "Accuracy: 0.9050701186623517\n",
      "Iteration 1, loss = 0.31612564\n",
      "Training loss did not improve more than tol=0.000100 for 10 consecutive epochs. Stopping.\n",
      "Accuracy: 0.884375\n"
     ]
    },
    {
     "name": "stdout",
     "output_type": "stream",
     "text": [
      "Iteration 1, loss = 0.29667593\n",
      "Training loss did not improve more than tol=0.000100 for 10 consecutive epochs. Stopping.\n",
      "Accuracy: 0.8872611464968153\n",
      "Iteration 1, loss = 0.30195939\n",
      "Training loss did not improve more than tol=0.000100 for 10 consecutive epochs. Stopping.\n",
      "Accuracy: 0.894646533973919\n"
     ]
    },
    {
     "name": "stdout",
     "output_type": "stream",
     "text": [
      "Iteration 1, loss = 0.33246226\n",
      "Training loss did not improve more than tol=0.000100 for 10 consecutive epochs. Stopping.\n",
      "Accuracy: 0.8927556818181818\n",
      "Iteration 1, loss = 0.28822816\n",
      "Training loss did not improve more than tol=0.000100 for 10 consecutive epochs. Stopping.\n",
      "Accuracy: 0.9041614123581336\n"
     ]
    },
    {
     "name": "stdout",
     "output_type": "stream",
     "text": [
      "Iteration 1, loss = 0.31564161\n",
      "Training loss did not improve more than tol=0.000100 for 10 consecutive epochs. Stopping.\n",
      "Accuracy: 0.8821138211382114\n",
      "Iteration 1, loss = 0.29022746\n",
      "Training loss did not improve more than tol=0.000100 for 10 consecutive epochs. Stopping.\n",
      "Accuracy: 0.9069264069264069\n"
     ]
    },
    {
     "name": "stdout",
     "output_type": "stream",
     "text": [
      "Iteration 1, loss = 0.28459580\n",
      "Training loss did not improve more than tol=0.000100 for 10 consecutive epochs. Stopping.\n",
      "Accuracy: 0.90788662969809\n",
      "Iteration 1, loss = 0.31163278\n",
      "Training loss did not improve more than tol=0.000100 for 10 consecutive epochs. Stopping.\n",
      "Accuracy: 0.8951858622790981\n"
     ]
    },
    {
     "name": "stdout",
     "output_type": "stream",
     "text": [
      "Iteration 1, loss = 0.28736459\n",
      "Training loss did not improve more than tol=0.000100 for 10 consecutive epochs. Stopping.\n",
      "Accuracy: 0.9044648719632304\n",
      "Iteration 1, loss = 0.30217838\n",
      "Training loss did not improve more than tol=0.000100 for 10 consecutive epochs. Stopping.\n",
      "Accuracy: 0.897196261682243\n"
     ]
    },
    {
     "name": "stdout",
     "output_type": "stream",
     "text": [
      "Iteration 1, loss = 0.31387909\n",
      "Training loss did not improve more than tol=0.000100 for 10 consecutive epochs. Stopping.\n",
      "Accuracy: 0.8939393939393939\n",
      "Iteration 1, loss = 0.29045637\n",
      "Training loss did not improve more than tol=0.000100 for 10 consecutive epochs. Stopping.\n",
      "Accuracy: 0.9059328649492584\n"
     ]
    },
    {
     "name": "stdout",
     "output_type": "stream",
     "text": [
      "Iteration 1, loss = 0.32394746\n",
      "Training loss did not improve more than tol=0.000100 for 10 consecutive epochs. Stopping.\n",
      "Accuracy: 0.8803108808290155\n",
      "Iteration 1, loss = 0.32152433\n",
      "Training loss did not improve more than tol=0.000100 for 10 consecutive epochs. Stopping.\n",
      "Accuracy: 0.8888888888888888\n"
     ]
    },
    {
     "name": "stdout",
     "output_type": "stream",
     "text": [
      "Iteration 1, loss = 0.28628396\n",
      "Training loss did not improve more than tol=0.000100 for 10 consecutive epochs. Stopping.\n",
      "Accuracy: 0.9099443671766342\n",
      "Iteration 1, loss = 0.31952259\n",
      "Training loss did not improve more than tol=0.000100 for 10 consecutive epochs. Stopping.\n",
      "Accuracy: 0.8840349483717236\n"
     ]
    },
    {
     "name": "stdout",
     "output_type": "stream",
     "text": [
      "Iteration 1, loss = 0.30204979\n",
      "Training loss did not improve more than tol=0.000100 for 10 consecutive epochs. Stopping.\n",
      "Accuracy: 0.890625\n",
      "Iteration 1, loss = 0.31114687\n",
      "Training loss did not improve more than tol=0.000100 for 10 consecutive epochs. Stopping.\n",
      "Accuracy: 0.8984641638225256\n"
     ]
    },
    {
     "name": "stdout",
     "output_type": "stream",
     "text": [
      "Iteration 1, loss = 0.30190100\n",
      "Training loss did not improve more than tol=0.000100 for 10 consecutive epochs. Stopping.\n",
      "Accuracy: 0.9067990832696715\n",
      "Iteration 1, loss = 0.30607026\n",
      "Training loss did not improve more than tol=0.000100 for 10 consecutive epochs. Stopping.\n",
      "Accuracy: 0.8979391560353287\n"
     ]
    },
    {
     "name": "stdout",
     "output_type": "stream",
     "text": [
      "Iteration 1, loss = 0.28728205\n",
      "Training loss did not improve more than tol=0.000100 for 10 consecutive epochs. Stopping.\n",
      "Accuracy: 0.9067540322580645\n",
      "Iteration 1, loss = 0.33276173\n",
      "Training loss did not improve more than tol=0.000100 for 10 consecutive epochs. Stopping.\n",
      "Accuracy: 0.8939670932358318\n",
      "Iteration 1, loss = 0.29186327\n",
      "Training loss did not improve more than tol=0.000100 for 10 consecutive epochs. Stopping.\n"
     ]
    },
    {
     "name": "stdout",
     "output_type": "stream",
     "text": [
      "Accuracy: 0.9055772994129159\n",
      "Iteration 1, loss = 0.31463814\n",
      "Training loss did not improve more than tol=0.000100 for 10 consecutive epochs. Stopping.\n",
      "Accuracy: 0.8983050847457628\n",
      "Iteration 1, loss = 0.30468792\n",
      "Training loss did not improve more than tol=0.000100 for 10 consecutive epochs. Stopping.\n",
      "Accuracy: 0.8980769230769231\n"
     ]
    },
    {
     "name": "stdout",
     "output_type": "stream",
     "text": [
      "Iteration 1, loss = 0.29103501\n",
      "Training loss did not improve more than tol=0.000100 for 10 consecutive epochs. Stopping.\n",
      "Accuracy: 0.9034822104466314\n",
      "Iteration 1, loss = 0.31007583\n",
      "Training loss did not improve more than tol=0.000100 for 10 consecutive epochs. Stopping.\n",
      "Accuracy: 0.8957242582897034\n"
     ]
    },
    {
     "name": "stdout",
     "output_type": "stream",
     "text": [
      "Iteration 1, loss = 0.28998994\n",
      "Training loss did not improve more than tol=0.000100 for 10 consecutive epochs. Stopping.\n",
      "Accuracy: 0.9070212765957447\n"
     ]
    },
    {
     "name": "stdout",
     "output_type": "stream",
     "text": [
      "Iteration 1, loss = 0.27688180\n",
      "Training loss did not improve more than tol=0.000100 for 10 consecutive epochs. Stopping.\n",
      "Accuracy: 0.9061926605504587\n"
     ]
    },
    {
     "name": "stdout",
     "output_type": "stream",
     "text": [
      "Iteration 1, loss = 0.28298685\n",
      "Training loss did not improve more than tol=0.000100 for 10 consecutive epochs. Stopping.\n",
      "Accuracy: 0.9123422159887798\n",
      "Iteration 1, loss = 0.26875239\n",
      "Training loss did not improve more than tol=0.000100 for 10 consecutive epochs. Stopping.\n",
      "Accuracy: 0.9185393258426966\n"
     ]
    },
    {
     "name": "stdout",
     "output_type": "stream",
     "text": [
      "Iteration 1, loss = 0.29322704\n",
      "Training loss did not improve more than tol=0.000100 for 10 consecutive epochs. Stopping.\n",
      "Accuracy: 0.9052029956641703\n"
     ]
    },
    {
     "name": "stdout",
     "output_type": "stream",
     "text": [
      "Iteration 1, loss = 0.28094657\n",
      "Training loss did not improve more than tol=0.000100 for 10 consecutive epochs. Stopping.\n",
      "Accuracy: 0.9073709105242412\n"
     ]
    },
    {
     "name": "stdout",
     "output_type": "stream",
     "text": [
      "Iteration 1, loss = 0.28563931\n",
      "Training loss did not improve more than tol=0.000100 for 10 consecutive epochs. Stopping.\n",
      "Accuracy: 0.9048565121412804\n",
      "Iteration 1, loss = 0.30403665\n",
      "Training loss did not improve more than tol=0.000100 for 10 consecutive epochs. Stopping.\n",
      "Accuracy: 0.8997469955724225\n"
     ]
    },
    {
     "name": "stdout",
     "output_type": "stream",
     "text": [
      "Iteration 1, loss = 0.28434550\n",
      "Training loss did not improve more than tol=0.000100 for 10 consecutive epochs. Stopping.\n",
      "Accuracy: 0.9125234521575984\n"
     ]
    },
    {
     "name": "stdout",
     "output_type": "stream",
     "text": [
      "Iteration 1, loss = 0.30790546\n",
      "Training loss did not improve more than tol=0.000100 for 10 consecutive epochs. Stopping.\n",
      "Accuracy: 0.9004889975550122\n",
      "Iteration 1, loss = 0.29279846\n",
      "Training loss did not improve more than tol=0.000100 for 10 consecutive epochs. Stopping.\n",
      "Accuracy: 0.9077335375191424\n"
     ]
    },
    {
     "name": "stdout",
     "output_type": "stream",
     "text": [
      "Iteration 1, loss = 0.28990202\n",
      "Training loss did not improve more than tol=0.000100 for 10 consecutive epochs. Stopping.\n",
      "Accuracy: 0.9036281179138322\n"
     ]
    },
    {
     "name": "stdout",
     "output_type": "stream",
     "text": [
      "Iteration 1, loss = 0.29661239\n",
      "Training loss did not improve more than tol=0.000100 for 10 consecutive epochs. Stopping.\n",
      "Accuracy: 0.8894637817497648\n"
     ]
    },
    {
     "name": "stdout",
     "output_type": "stream",
     "text": [
      "Iteration 1, loss = 0.28009087\n",
      "Training loss did not improve more than tol=0.000100 for 10 consecutive epochs. Stopping.\n",
      "Accuracy: 0.9115927910375061\n",
      "Iteration 1, loss = 0.27768455\n",
      "Training loss did not improve more than tol=0.000100 for 10 consecutive epochs. Stopping.\n",
      "Accuracy: 0.9091240875912409\n"
     ]
    },
    {
     "name": "stdout",
     "output_type": "stream",
     "text": [
      "Iteration 1, loss = 0.28040013\n",
      "Training loss did not improve more than tol=0.000100 for 10 consecutive epochs. Stopping.\n",
      "Accuracy: 0.9108012394864985\n"
     ]
    },
    {
     "name": "stdout",
     "output_type": "stream",
     "text": [
      "Iteration 1, loss = 0.29257973\n",
      "Training loss did not improve more than tol=0.000100 for 10 consecutive epochs. Stopping.\n",
      "Accuracy: 0.903573629081947\n",
      "Iteration 1, loss = 0.28752364\n",
      "Training loss did not improve more than tol=0.000100 for 10 consecutive epochs. Stopping.\n",
      "Accuracy: 0.9001426533523538\n"
     ]
    },
    {
     "name": "stdout",
     "output_type": "stream",
     "text": [
      "Iteration 1, loss = 0.28155123\n",
      "Training loss did not improve more than tol=0.000100 for 10 consecutive epochs. Stopping.\n",
      "Accuracy: 0.9129464285714286\n",
      "Iteration 1, loss = 0.28137400\n",
      "Training loss did not improve more than tol=0.000100 for 10 consecutive epochs. Stopping.\n",
      "Accuracy: 0.901072705601907\n"
     ]
    },
    {
     "name": "stdout",
     "output_type": "stream",
     "text": [
      "Iteration 1, loss = 0.30144433\n",
      "Training loss did not improve more than tol=0.000100 for 10 consecutive epochs. Stopping.\n",
      "Accuracy: 0.904510022271715\n",
      "Iteration 1, loss = 0.29405523\n",
      "Training loss did not improve more than tol=0.000100 for 10 consecutive epochs. Stopping.\n",
      "Accuracy: 0.9025746050321826\n"
     ]
    },
    {
     "name": "stdout",
     "output_type": "stream",
     "text": [
      "Iteration 1, loss = 0.30583229\n",
      "Training loss did not improve more than tol=0.000100 for 10 consecutive epochs. Stopping.\n",
      "Accuracy: 0.8985507246376812\n",
      "Iteration 1, loss = 0.29647292\n",
      "Training loss did not improve more than tol=0.000100 for 10 consecutive epochs. Stopping.\n",
      "Accuracy: 0.9010309278350516\n"
     ]
    },
    {
     "name": "stdout",
     "output_type": "stream",
     "text": [
      "Iteration 1, loss = 0.27886390\n",
      "Training loss did not improve more than tol=0.000100 for 10 consecutive epochs. Stopping.\n",
      "Accuracy: 0.9094352617079889\n",
      "Iteration 1, loss = 0.28964043\n",
      "Training loss did not improve more than tol=0.000100 for 10 consecutive epochs. Stopping.\n",
      "Accuracy: 0.9059011164274322\n",
      "Iteration 1, loss = 0.29146409\n",
      "Training loss did not improve more than tol=0.000100 for 10 consecutive epochs. Stopping.\n",
      "Accuracy: 0.9113389626055488\n"
     ]
    },
    {
     "name": "stdout",
     "output_type": "stream",
     "text": [
      "Iteration 1, loss = 0.28671290\n",
      "Training loss did not improve more than tol=0.000100 for 10 consecutive epochs. Stopping.\n",
      "Accuracy: 0.9027355623100304\n",
      "Iteration 1, loss = 0.32522476\n",
      "Training loss did not improve more than tol=0.000100 for 10 consecutive epochs. Stopping.\n",
      "Accuracy: 0.8874653739612188\n"
     ]
    },
    {
     "name": "stdout",
     "output_type": "stream",
     "text": [
      "Iteration 1, loss = 0.28835981\n",
      "Training loss did not improve more than tol=0.000100 for 10 consecutive epochs. Stopping.\n",
      "Accuracy: 0.8886054421768708\n",
      "Iteration 1, loss = 0.29032022\n",
      "Training loss did not improve more than tol=0.000100 for 10 consecutive epochs. Stopping.\n",
      "Accuracy: 0.9043583535108959\n"
     ]
    },
    {
     "name": "stdout",
     "output_type": "stream",
     "text": [
      "Iteration 1, loss = 0.29305983\n",
      "Training loss did not improve more than tol=0.000100 for 10 consecutive epochs. Stopping.\n",
      "Accuracy: 0.9039287906691221\n",
      "Iteration 1, loss = 0.30919644\n",
      "Training loss did not improve more than tol=0.000100 for 10 consecutive epochs. Stopping.\n",
      "Accuracy: 0.9045226130653267\n"
     ]
    },
    {
     "name": "stdout",
     "output_type": "stream",
     "text": [
      "Iteration 1, loss = 0.29880962\n",
      "Training loss did not improve more than tol=0.000100 for 10 consecutive epochs. Stopping.\n",
      "Accuracy: 0.904427882507672\n"
     ]
    },
    {
     "name": "stdout",
     "output_type": "stream",
     "text": [
      "Iteration 1, loss = 0.29767943\n",
      "Training loss did not improve more than tol=0.000100 for 10 consecutive epochs. Stopping.\n",
      "Accuracy: 0.9075718015665797\n",
      "Iteration 1, loss = 0.29852941\n",
      "Training loss did not improve more than tol=0.000100 for 10 consecutive epochs. Stopping.\n",
      "Accuracy: 0.8965995836224844\n"
     ]
    },
    {
     "name": "stdout",
     "output_type": "stream",
     "text": [
      "Iteration 1, loss = 0.27458500\n",
      "Training loss did not improve more than tol=0.000100 for 10 consecutive epochs. Stopping.\n",
      "Accuracy: 0.9246753246753247\n"
     ]
    },
    {
     "name": "stdout",
     "output_type": "stream",
     "text": [
      "Iteration 1, loss = 0.28602202\n",
      "Training loss did not improve more than tol=0.000100 for 10 consecutive epochs. Stopping.\n",
      "Accuracy: 0.9178163184864012\n"
     ]
    },
    {
     "name": "stdout",
     "output_type": "stream",
     "text": [
      "Iteration 1, loss = 0.28318459\n",
      "Training loss did not improve more than tol=0.000100 for 10 consecutive epochs. Stopping.\n",
      "Accuracy: 0.9057899901864573\n",
      "Iteration 1, loss = 0.27566688\n",
      "Training loss did not improve more than tol=0.000100 for 10 consecutive epochs. Stopping.\n",
      "Accuracy: 0.9145744029393754\n"
     ]
    },
    {
     "name": "stdout",
     "output_type": "stream",
     "text": [
      "Iteration 1, loss = 0.31174032\n",
      "Training loss did not improve more than tol=0.000100 for 10 consecutive epochs. Stopping.\n",
      "Accuracy: 0.9024608501118568\n",
      "Iteration 1, loss = 0.29914407\n",
      "Training loss did not improve more than tol=0.000100 for 10 consecutive epochs. Stopping.\n",
      "Accuracy: 0.9092210767468499\n"
     ]
    },
    {
     "name": "stdout",
     "output_type": "stream",
     "text": [
      "Iteration 1, loss = 0.27207361\n",
      "Training loss did not improve more than tol=0.000100 for 10 consecutive epochs. Stopping.\n",
      "Accuracy: 0.9123422159887798\n",
      "Iteration 1, loss = 0.28304951\n",
      "Training loss did not improve more than tol=0.000100 for 10 consecutive epochs. Stopping.\n",
      "Accuracy: 0.907563025210084\n"
     ]
    },
    {
     "name": "stdout",
     "output_type": "stream",
     "text": [
      "Iteration 1, loss = 0.29306304\n",
      "Training loss did not improve more than tol=0.000100 for 10 consecutive epochs. Stopping.\n",
      "Accuracy: 0.9085972850678733\n",
      "Iteration 1, loss = 0.27473637\n",
      "Training loss did not improve more than tol=0.000100 for 10 consecutive epochs. Stopping.\n"
     ]
    },
    {
     "name": "stdout",
     "output_type": "stream",
     "text": [
      "Accuracy: 0.9134615384615384\n",
      "Iteration 1, loss = 0.28486664\n",
      "Training loss did not improve more than tol=0.000100 for 10 consecutive epochs. Stopping.\n",
      "Accuracy: 0.898109243697479\n",
      "Iteration 1, loss = 0.24939882\n",
      "Training loss did not improve more than tol=0.000100 for 10 consecutive epochs. Stopping.\n",
      "Accuracy: 0.9014598540145985\n"
     ]
    },
    {
     "name": "stdout",
     "output_type": "stream",
     "text": [
      "Iteration 1, loss = 0.25559696\n",
      "Training loss did not improve more than tol=0.000100 for 10 consecutive epochs. Stopping.\n",
      "Accuracy: 0.9231326889279438\n"
     ]
    },
    {
     "name": "stdout",
     "output_type": "stream",
     "text": [
      "Iteration 1, loss = 0.24806786\n",
      "Training loss did not improve more than tol=0.000100 for 10 consecutive epochs. Stopping.\n",
      "Accuracy: 0.9271606176057751\n"
     ]
    },
    {
     "name": "stdout",
     "output_type": "stream",
     "text": [
      "Iteration 1, loss = 0.24913285\n",
      "Training loss did not improve more than tol=0.000100 for 10 consecutive epochs. Stopping.\n",
      "Accuracy: 0.9287389132429401\n"
     ]
    },
    {
     "name": "stdout",
     "output_type": "stream",
     "text": [
      "Iteration 1, loss = 0.24239732\n",
      "Accuracy: 0.9209495508880935\n"
     ]
    },
    {
     "name": "stdout",
     "output_type": "stream",
     "text": [
      "Iteration 1, loss = 0.24493028\n",
      "Accuracy: 0.919246274566266\n"
     ]
    },
    {
     "name": "stdout",
     "output_type": "stream",
     "text": [
      "Iteration 1, loss = 0.24296154\n",
      "Accuracy: 0.9226459564931804\n"
     ]
    },
    {
     "name": "stdout",
     "output_type": "stream",
     "text": [
      "Iteration 1, loss = 0.23917995\n",
      "Accuracy: 0.9244020849406319\n"
     ]
    },
    {
     "name": "stdout",
     "output_type": "stream",
     "text": [
      "Iteration 1, loss = 0.23488444\n",
      "Accuracy: 0.9246866001255765\n"
     ]
    },
    {
     "name": "stdout",
     "output_type": "stream",
     "text": [
      "Iteration 1, loss = 0.23696388\n",
      "Accuracy: 0.9242424242424242\n"
     ]
    },
    {
     "name": "stdout",
     "output_type": "stream",
     "text": [
      "Iteration 1, loss = 0.23691802\n",
      "Accuracy: 0.9272145972121894\n"
     ]
    },
    {
     "name": "stdout",
     "output_type": "stream",
     "text": [
      "Iteration 1, loss = 0.24147233\n",
      "Accuracy: 0.9204244506477703\n"
     ]
    },
    {
     "name": "stdout",
     "output_type": "stream",
     "text": [
      "Iteration 1, loss = 0.23625090\n",
      "Accuracy: 0.9225387870239774\n"
     ]
    },
    {
     "name": "stdout",
     "output_type": "stream",
     "text": [
      "Iteration 1, loss = 0.23235238\n",
      "Accuracy: 0.9294312933025404\n"
     ]
    },
    {
     "name": "stdout",
     "output_type": "stream",
     "text": [
      "Iteration 1, loss = 0.23046457\n",
      "Accuracy: 0.9259959042371642\n"
     ]
    },
    {
     "name": "stdout",
     "output_type": "stream",
     "text": [
      "Iteration 1, loss = 0.23045248\n",
      "Accuracy: 0.9294649550224887\n"
     ]
    },
    {
     "name": "stdout",
     "output_type": "stream",
     "text": [
      "Iteration 1, loss = 0.23528776\n",
      "Accuracy: 0.9286217835741981\n"
     ]
    },
    {
     "name": "stdout",
     "output_type": "stream",
     "text": [
      "Iteration 1, loss = 0.22988996\n",
      "Accuracy: 0.9303516748631344\n"
     ]
    },
    {
     "name": "stdout",
     "output_type": "stream",
     "text": [
      "Iteration 1, loss = 0.23236697\n",
      "Accuracy: 0.9264346764346765\n"
     ]
    },
    {
     "name": "stdout",
     "output_type": "stream",
     "text": [
      "Iteration 1, loss = 0.23043334\n",
      "Accuracy: 0.9290987449869311\n"
     ]
    },
    {
     "name": "stdout",
     "output_type": "stream",
     "text": [
      "Iteration 1, loss = 0.25560930\n",
      "Accuracy: 0.9256368966513894\n"
     ]
    },
    {
     "name": "stdout",
     "output_type": "stream",
     "text": [
      "Iteration 1, loss = 0.24973652\n",
      "Accuracy: 0.9306743305761952\n"
     ]
    },
    {
     "name": "stdout",
     "output_type": "stream",
     "text": [
      "Iteration 1, loss = 0.25655791\n",
      "Accuracy: 0.9271031998304725\n"
     ]
    },
    {
     "name": "stdout",
     "output_type": "stream",
     "text": [
      "Iteration 1, loss = 0.25243007\n",
      "Accuracy: 0.9273177496038035\n"
     ]
    },
    {
     "name": "stdout",
     "output_type": "stream",
     "text": [
      "Iteration 1, loss = 0.25158223\n",
      "Accuracy: 0.9253370075221569\n"
     ]
    },
    {
     "name": "stdout",
     "output_type": "stream",
     "text": [
      "Iteration 1, loss = 0.24406142\n",
      "Accuracy: 0.9311245877815661\n"
     ]
    },
    {
     "name": "stdout",
     "output_type": "stream",
     "text": [
      "Iteration 1, loss = 0.24572862\n",
      "Accuracy: 0.9290530264625367\n"
     ]
    },
    {
     "name": "stdout",
     "output_type": "stream",
     "text": [
      "Iteration 1, loss = 0.24712608\n",
      "Accuracy: 0.9258939077395961\n"
     ]
    },
    {
     "name": "stdout",
     "output_type": "stream",
     "text": [
      "Iteration 1, loss = 0.21677028\n",
      "Accuracy: 0.9349076288869662\n"
     ]
    },
    {
     "name": "stdout",
     "output_type": "stream",
     "text": [
      "Iteration 1, loss = 0.21444106\n",
      "Accuracy: 0.9330645014803917\n"
     ]
    },
    {
     "name": "stdout",
     "output_type": "stream",
     "text": [
      "Iteration 1, loss = 0.21430239\n",
      "Accuracy: 0.935342905556051\n"
     ]
    },
    {
     "name": "stdout",
     "output_type": "stream",
     "text": [
      "Iteration 1, loss = 0.21117449\n",
      "Accuracy: 0.9359309990182787\n"
     ]
    },
    {
     "name": "stdout",
     "output_type": "stream",
     "text": [
      "Iteration 1, loss = 0.23202628\n",
      "Accuracy: 0.9301366372583367\n"
     ]
    },
    {
     "name": "stdout",
     "output_type": "stream",
     "text": [
      "Iteration 1, loss = 0.23123386\n",
      "Accuracy: 0.9335915492957747\n"
     ]
    },
    {
     "name": "stdout",
     "output_type": "stream",
     "text": [
      "Iteration 1, loss = 0.22858011\n",
      "Accuracy: 0.9347356634407742\n"
     ]
    },
    {
     "name": "stdout",
     "output_type": "stream",
     "text": [
      "Iteration 1, loss = 0.22534491\n",
      "Accuracy: 0.934870036978056\n"
     ]
    },
    {
     "name": "stdout",
     "output_type": "stream",
     "text": [
      "Iteration 1, loss = 0.22405755\n",
      "Accuracy: 0.9339094592379212\n"
     ]
    },
    {
     "name": "stdout",
     "output_type": "stream",
     "text": [
      "Iteration 1, loss = 0.21981401\n",
      "Accuracy: 0.9368602532963219\n"
     ]
    },
    {
     "name": "stdout",
     "output_type": "stream",
     "text": [
      "Iteration 1, loss = 0.22419377\n",
      "Accuracy: 0.9370932754880694\n"
     ]
    },
    {
     "name": "stdout",
     "output_type": "stream",
     "text": [
      "Iteration 1, loss = 0.22163571\n",
      "Accuracy: 0.9369903342625642\n"
     ]
    },
    {
     "name": "stdout",
     "output_type": "stream",
     "text": [
      "Iteration 1, loss = 0.22030831\n",
      "Accuracy: 0.9373569794050344\n"
     ]
    },
    {
     "name": "stdout",
     "output_type": "stream",
     "text": [
      "Iteration 1, loss = 0.21901262\n",
      "Accuracy: 0.9369853550704614\n"
     ]
    },
    {
     "name": "stdout",
     "output_type": "stream",
     "text": [
      "Iteration 1, loss = 0.22417030\n",
      "Training loss did not improve more than tol=0.000100 for 10 consecutive epochs. Stopping.\n",
      "Accuracy: 0.9350676064836401\n"
     ]
    },
    {
     "name": "stdout",
     "output_type": "stream",
     "text": [
      "Iteration 1, loss = 0.21784373\n",
      "Training loss did not improve more than tol=0.000100 for 10 consecutive epochs. Stopping.\n",
      "Accuracy: 0.9370739670424213\n"
     ]
    },
    {
     "name": "stdout",
     "output_type": "stream",
     "text": [
      "Iteration 1, loss = 0.21786072\n",
      "Training loss did not improve more than tol=0.000100 for 10 consecutive epochs. Stopping.\n",
      "Accuracy: 0.9375351039075664\n"
     ]
    },
    {
     "name": "stdout",
     "output_type": "stream",
     "text": [
      "Iteration 1, loss = 0.22241075\n",
      "Training loss did not improve more than tol=0.000100 for 10 consecutive epochs. Stopping.\n",
      "Accuracy: 0.9349252511656972\n"
     ]
    },
    {
     "name": "stdout",
     "output_type": "stream",
     "text": [
      "Iteration 1, loss = 0.22224032\n",
      "Training loss did not improve more than tol=0.000100 for 10 consecutive epochs. Stopping.\n",
      "Accuracy: 0.9377818443239004\n"
     ]
    },
    {
     "name": "stdout",
     "output_type": "stream",
     "text": [
      "Iteration 1, loss = 0.21898910\n",
      "Training loss did not improve more than tol=0.000100 for 10 consecutive epochs. Stopping.\n",
      "Accuracy: 0.9377384238439351\n"
     ]
    },
    {
     "name": "stdout",
     "output_type": "stream",
     "text": [
      "Iteration 1, loss = 0.22072733\n",
      "Training loss did not improve more than tol=0.000100 for 10 consecutive epochs. Stopping.\n",
      "Accuracy: 0.9379245132248355\n"
     ]
    },
    {
     "name": "stdout",
     "output_type": "stream",
     "text": [
      "Iteration 1, loss = 0.21698687\n",
      "Training loss did not improve more than tol=0.000100 for 10 consecutive epochs. Stopping.\n",
      "Accuracy: 0.9391554979103617\n"
     ]
    },
    {
     "name": "stdout",
     "output_type": "stream",
     "text": [
      "Iteration 1, loss = 0.22012945\n",
      "Training loss did not improve more than tol=0.000100 for 10 consecutive epochs. Stopping.\n",
      "Accuracy: 0.9388275905885343\n"
     ]
    },
    {
     "name": "stdout",
     "output_type": "stream",
     "text": [
      "Iteration 1, loss = 0.21412230\n",
      "Training loss did not improve more than tol=0.000100 for 10 consecutive epochs. Stopping.\n",
      "Accuracy: 0.9394070331715748\n",
      "Iteration 1, loss = 0.17732756\n",
      "Accuracy: 0.9506172839506173\n"
     ]
    },
    {
     "name": "stdout",
     "output_type": "stream",
     "text": [
      "Iteration 1, loss = 0.25421988\n",
      "Accuracy: 0.9225352112676056\n",
      "Iteration 1, loss = 0.20727625\n",
      "Accuracy: 0.9394736842105263\n",
      "Iteration 1, loss = 0.29470356\n",
      "Accuracy: 0.9120879120879121\n",
      "Iteration 1, loss = 0.20239433\n",
      "Accuracy: 0.9556962025316456\n",
      "Iteration 1, loss = 0.22881186\n",
      "Accuracy: 0.9416666666666667\n",
      "Iteration 1, loss = 0.26446722\n",
      "Accuracy: 0.9387755102040817\n",
      "Iteration 1, loss = 0.21422979\n",
      "Accuracy: 0.9393939393939394\n",
      "Iteration 1, loss = 0.25019173\n",
      "Accuracy: 0.9226190476190477\n"
     ]
    },
    {
     "name": "stdout",
     "output_type": "stream",
     "text": [
      "Iteration 1, loss = 0.25415453\n",
      "Accuracy: 0.9323076923076923\n",
      "Iteration 1, loss = 0.25639661\n",
      "Accuracy: 0.9226618705035972\n",
      "Iteration 1, loss = 0.22275369\n",
      "Training loss did not improve more than tol=0.000100 for 10 consecutive epochs. Stopping.\n",
      "Accuracy: 0.9362416107382551\n",
      "Iteration 1, loss = 0.34049830\n",
      "Training loss did not improve more than tol=0.000100 for 10 consecutive epochs. Stopping.\n",
      "Accuracy: 0.9102990033222591\n",
      "Iteration 1, loss = 0.27322300\n",
      "Training loss did not improve more than tol=0.000100 for 10 consecutive epochs. Stopping.\n",
      "Accuracy: 0.9191616766467066\n",
      "Iteration 1, loss = 0.23884770\n",
      "Training loss did not improve more than tol=0.000100 for 10 consecutive epochs. Stopping.\n",
      "Accuracy: 0.9337349397590361\n"
     ]
    },
    {
     "name": "stdout",
     "output_type": "stream",
     "text": [
      "Iteration 1, loss = 0.24655569\n",
      "Training loss did not improve more than tol=0.000100 for 10 consecutive epochs. Stopping.\n",
      "Accuracy: 0.9235294117647059\n",
      "Iteration 1, loss = 0.18436740\n",
      "Training loss did not improve more than tol=0.000100 for 10 consecutive epochs. Stopping.\n",
      "Accuracy: 0.9325842696629213\n",
      "Iteration 1, loss = 0.28517201\n",
      "Training loss did not improve more than tol=0.000100 for 10 consecutive epochs. Stopping.\n",
      "Accuracy: 0.9226804123711341\n",
      "Iteration 1, loss = 0.23790857\n",
      "Training loss did not improve more than tol=0.000100 for 10 consecutive epochs. Stopping.\n",
      "Accuracy: 0.9528301886792453\n",
      "Iteration 1, loss = 0.21648693\n",
      "Training loss did not improve more than tol=0.000100 for 10 consecutive epochs. Stopping.\n",
      "Accuracy: 0.9375\n",
      "Iteration 1, loss = 0.22014423\n",
      "Training loss did not improve more than tol=0.000100 for 10 consecutive epochs. Stopping.\n",
      "Accuracy: 0.9289940828402367\n",
      "Iteration 1, loss = 0.24681147\n",
      "Training loss did not improve more than tol=0.000100 for 10 consecutive epochs. Stopping.\n",
      "Accuracy: 0.92\n",
      "Iteration 1, loss = 0.28060718\n",
      "Training loss did not improve more than tol=0.000100 for 10 consecutive epochs. Stopping.\n",
      "Accuracy: 0.9182692307692307\n",
      "Iteration 1, loss = 0.21959413\n",
      "Training loss did not improve more than tol=0.000100 for 10 consecutive epochs. Stopping.\n",
      "Accuracy: 0.9516129032258065\n"
     ]
    },
    {
     "name": "stdout",
     "output_type": "stream",
     "text": [
      "Iteration 1, loss = 0.19141697\n",
      "Training loss did not improve more than tol=0.000100 for 10 consecutive epochs. Stopping.\n",
      "Accuracy: 0.9490740740740741\n",
      "Iteration 1, loss = 0.27927115\n",
      "Training loss did not improve more than tol=0.000100 for 10 consecutive epochs. Stopping.\n",
      "Accuracy: 0.9269005847953217\n",
      "Iteration 1, loss = 0.22163023\n",
      "Training loss did not improve more than tol=0.000100 for 10 consecutive epochs. Stopping.\n",
      "Accuracy: 0.9333333333333333\n",
      "Iteration 1, loss = 0.28848604\n",
      "Training loss did not improve more than tol=0.000100 for 10 consecutive epochs. Stopping.\n",
      "Accuracy: 0.9201183431952663\n",
      "Iteration 1, loss = 0.28239358\n",
      "Training loss did not improve more than tol=0.000100 for 10 consecutive epochs. Stopping.\n",
      "Accuracy: 0.9105263157894737\n",
      "Iteration 1, loss = 0.16905902\n",
      "Accuracy: 0.9375\n",
      "Iteration 1, loss = 0.25160934\n",
      "Accuracy: 0.913109756097561\n",
      "Iteration 1, loss = 0.25880752\n",
      "Accuracy: 0.9\n"
     ]
    },
    {
     "name": "stdout",
     "output_type": "stream",
     "text": [
      "Iteration 1, loss = 0.28337694\n",
      "Accuracy: 0.9183006535947712\n",
      "Iteration 1, loss = 0.14727299\n",
      "Accuracy: 0.9519230769230769\n",
      "Iteration 1, loss = 0.33609729\n",
      "Accuracy: 0.8828828828828829\n",
      "Iteration 1, loss = 0.24330332\n",
      "Accuracy: 0.9163424124513618\n",
      "Iteration 1, loss = 0.21420613\n",
      "Accuracy: 0.9285714285714286\n",
      "Iteration 1, loss = 0.26383895\n",
      "Accuracy: 0.9210526315789473\n",
      "Iteration 1, loss = 0.25325772\n",
      "Accuracy: 0.9224806201550387\n",
      "Iteration 1, loss = 0.28934879\n",
      "Accuracy: 0.917910447761194\n"
     ]
    },
    {
     "name": "stdout",
     "output_type": "stream",
     "text": [
      "Iteration 1, loss = 0.26870202\n",
      "Accuracy: 0.9155844155844156\n",
      "Iteration 1, loss = 0.19800465\n",
      "Accuracy: 0.9184397163120568\n",
      "Iteration 1, loss = 0.24732991\n",
      "Accuracy: 0.9379084967320261\n",
      "Iteration 1, loss = 0.25329479\n",
      "Accuracy: 0.9204545454545454\n",
      "Iteration 1, loss = 0.26856552\n",
      "Training loss did not improve more than tol=0.000100 for 10 consecutive epochs. Stopping.\n",
      "Accuracy: 0.9265734265734266\n",
      "Iteration 1, loss = 0.16373963\n",
      "Training loss did not improve more than tol=0.000100 for 10 consecutive epochs. Stopping.\n",
      "Accuracy: 0.9471830985915493\n",
      "Iteration 1, loss = 0.24263629\n",
      "Training loss did not improve more than tol=0.000100 for 10 consecutive epochs. Stopping.\n",
      "Accuracy: 0.9290780141843972\n",
      "Iteration 1, loss = 0.30719224\n",
      "Training loss did not improve more than tol=0.000100 for 10 consecutive epochs. Stopping.\n",
      "Accuracy: 0.8934426229508197\n"
     ]
    },
    {
     "name": "stdout",
     "output_type": "stream",
     "text": [
      "Iteration 1, loss = 0.25097467\n",
      "Training loss did not improve more than tol=0.000100 for 10 consecutive epochs. Stopping.\n",
      "Accuracy: 0.9133333333333333\n",
      "Iteration 1, loss = 0.27255932\n",
      "Training loss did not improve more than tol=0.000100 for 10 consecutive epochs. Stopping.\n",
      "Accuracy: 0.9028776978417267\n",
      "Iteration 1, loss = 0.24473638\n",
      "Training loss did not improve more than tol=0.000100 for 10 consecutive epochs. Stopping.\n",
      "Accuracy: 0.924908424908425\n",
      "Iteration 1, loss = 0.24376362\n",
      "Training loss did not improve more than tol=0.000100 for 10 consecutive epochs. Stopping.\n",
      "Accuracy: 0.9292929292929293\n",
      "Iteration 1, loss = 0.27522458\n",
      "Training loss did not improve more than tol=0.000100 for 10 consecutive epochs. Stopping.\n",
      "Accuracy: 0.9204081632653062\n",
      "Iteration 1, loss = 0.29951939\n",
      "Training loss did not improve more than tol=0.000100 for 10 consecutive epochs. Stopping.\n",
      "Accuracy: 0.9010067114093959\n"
     ]
    },
    {
     "name": "stdout",
     "output_type": "stream",
     "text": [
      "Iteration 1, loss = 0.25571142\n",
      "Training loss did not improve more than tol=0.000100 for 10 consecutive epochs. Stopping.\n",
      "Accuracy: 0.9220183486238532\n",
      "Iteration 1, loss = 0.14436282\n",
      "Accuracy: 0.9627659574468085\n",
      "Iteration 1, loss = 0.27713910\n",
      "Accuracy: 0.9026845637583892\n",
      "Iteration 1, loss = 0.25718521\n",
      "Accuracy: 0.9150943396226415\n",
      "Iteration 1, loss = 0.18513507\n",
      "Accuracy: 0.9631578947368421\n",
      "Iteration 1, loss = 0.25471364\n",
      "Accuracy: 0.9398496240601504\n",
      "Iteration 1, loss = 0.29484633\n",
      "Accuracy: 0.9081632653061225\n",
      "Iteration 1, loss = 0.30580986\n",
      "Accuracy: 0.9136125654450262\n",
      "Iteration 1, loss = 0.24316867\n",
      "Accuracy: 0.9006849315068494\n"
     ]
    },
    {
     "name": "stdout",
     "output_type": "stream",
     "text": [
      "Iteration 1, loss = 0.27887758\n",
      "Accuracy: 0.8980263157894737\n",
      "Iteration 1, loss = 0.23449502\n",
      "Accuracy: 0.9313725490196079\n",
      "Iteration 1, loss = 0.20291700\n",
      "Accuracy: 0.952513966480447\n",
      "Iteration 1, loss = 0.21576812\n",
      "Training loss did not improve more than tol=0.000100 for 10 consecutive epochs. Stopping.\n",
      "Accuracy: 0.9716981132075472\n",
      "Iteration 1, loss = 0.16703888\n",
      "Training loss did not improve more than tol=0.000100 for 10 consecutive epochs. Stopping.\n",
      "Accuracy: 0.9588235294117647\n",
      "Iteration 1, loss = 0.20453984\n",
      "Training loss did not improve more than tol=0.000100 for 10 consecutive epochs. Stopping.\n",
      "Accuracy: 0.9307692307692308\n",
      "Iteration 1, loss = 0.29725831\n",
      "Training loss did not improve more than tol=0.000100 for 10 consecutive epochs. Stopping.\n",
      "Accuracy: 0.908256880733945\n"
     ]
    },
    {
     "name": "stdout",
     "output_type": "stream",
     "text": [
      "Iteration 1, loss = 0.30923972\n",
      "Training loss did not improve more than tol=0.000100 for 10 consecutive epochs. Stopping.\n",
      "Accuracy: 0.9164345403899722\n",
      "Iteration 1, loss = 0.27442186\n",
      "Training loss did not improve more than tol=0.000100 for 10 consecutive epochs. Stopping.\n",
      "Accuracy: 0.9236111111111112\n",
      "Iteration 1, loss = 0.23701100\n",
      "Training loss did not improve more than tol=0.000100 for 10 consecutive epochs. Stopping.\n",
      "Accuracy: 0.9232954545454546\n",
      "Iteration 1, loss = 0.28215562\n",
      "Training loss did not improve more than tol=0.000100 for 10 consecutive epochs. Stopping.\n",
      "Accuracy: 0.9290322580645162\n",
      "Iteration 1, loss = 0.23518426\n",
      "Training loss did not improve more than tol=0.000100 for 10 consecutive epochs. Stopping.\n",
      "Accuracy: 0.9117647058823529\n",
      "Iteration 1, loss = 0.35018954\n",
      "Training loss did not improve more than tol=0.000100 for 10 consecutive epochs. Stopping.\n",
      "Accuracy: 0.7638888888888888\n"
     ]
    },
    {
     "name": "stdout",
     "output_type": "stream",
     "text": [
      "Iteration 1, loss = 0.21571812\n",
      "Training loss did not improve more than tol=0.000100 for 10 consecutive epochs. Stopping.\n",
      "Accuracy: 0.9505813953488372\n",
      "Iteration 1, loss = 0.25604766\n",
      "Training loss did not improve more than tol=0.000100 for 10 consecutive epochs. Stopping.\n",
      "Accuracy: 0.9354838709677419\n",
      "Iteration 1, loss = 0.25866614\n",
      "Training loss did not improve more than tol=0.000100 for 10 consecutive epochs. Stopping.\n",
      "Accuracy: 0.9405940594059405\n",
      "Iteration 1, loss = 0.17853476\n",
      "Training loss did not improve more than tol=0.000100 for 10 consecutive epochs. Stopping.\n",
      "Accuracy: 0.9366197183098591\n",
      "Iteration 1, loss = 0.24482510\n",
      "Training loss did not improve more than tol=0.000100 for 10 consecutive epochs. Stopping.\n",
      "Accuracy: 0.9397905759162304\n",
      "Iteration 1, loss = 0.24794474\n",
      "Training loss did not improve more than tol=0.000100 for 10 consecutive epochs. Stopping.\n",
      "Accuracy: 0.9137931034482759\n",
      "Iteration 1, loss = 0.24765417\n",
      "Training loss did not improve more than tol=0.000100 for 10 consecutive epochs. Stopping.\n",
      "Accuracy: 0.9013605442176871\n",
      "Iteration 1, loss = 0.25856874\n",
      "Training loss did not improve more than tol=0.000100 for 10 consecutive epochs. Stopping.\n",
      "Accuracy: 0.9285714285714286\n",
      "Iteration 1, loss = 0.34213410\n",
      "Training loss did not improve more than tol=0.000100 for 10 consecutive epochs. Stopping.\n",
      "Accuracy: 0.8705882352941177\n"
     ]
    },
    {
     "name": "stdout",
     "output_type": "stream",
     "text": [
      "Iteration 1, loss = 0.25728351\n",
      "Training loss did not improve more than tol=0.000100 for 10 consecutive epochs. Stopping.\n",
      "Accuracy: 0.9172413793103448\n",
      "Iteration 1, loss = 0.24307542\n",
      "Training loss did not improve more than tol=0.000100 for 10 consecutive epochs. Stopping.\n",
      "Accuracy: 0.9542682926829268\n",
      "Iteration 1, loss = 0.20712199\n",
      "Training loss did not improve more than tol=0.000100 for 10 consecutive epochs. Stopping.\n",
      "Accuracy: 0.9513888888888888\n",
      "Iteration 1, loss = 0.20655804\n",
      "Training loss did not improve more than tol=0.000100 for 10 consecutive epochs. Stopping.\n",
      "Accuracy: 0.9444444444444444\n",
      "Iteration 1, loss = 0.25134567\n",
      "Training loss did not improve more than tol=0.000100 for 10 consecutive epochs. Stopping.\n",
      "Accuracy: 0.9301994301994302\n",
      "Iteration 1, loss = 0.24701283\n",
      "Training loss did not improve more than tol=0.000100 for 10 consecutive epochs. Stopping.\n",
      "Accuracy: 0.9254032258064516\n"
     ]
    },
    {
     "name": "stdout",
     "output_type": "stream",
     "text": [
      "Iteration 1, loss = 0.27448518\n",
      "Training loss did not improve more than tol=0.000100 for 10 consecutive epochs. Stopping.\n",
      "Accuracy: 0.9215686274509803\n",
      "Iteration 1, loss = 0.24425594\n",
      "Training loss did not improve more than tol=0.000100 for 10 consecutive epochs. Stopping.\n",
      "Accuracy: 0.9246861924686193\n",
      "Iteration 1, loss = 0.25424314\n",
      "Training loss did not improve more than tol=0.000100 for 10 consecutive epochs. Stopping.\n",
      "Accuracy: 0.9049079754601227\n",
      "Iteration 1, loss = 0.19722362\n",
      "Training loss did not improve more than tol=0.000100 for 10 consecutive epochs. Stopping.\n",
      "Accuracy: 0.9772727272727273\n",
      "Iteration 1, loss = 0.24691401\n",
      "Training loss did not improve more than tol=0.000100 for 10 consecutive epochs. Stopping.\n",
      "Accuracy: 0.9351851851851852\n",
      "Iteration 1, loss = 0.28984387\n",
      "Training loss did not improve more than tol=0.000100 for 10 consecutive epochs. Stopping.\n",
      "Accuracy: 0.9388489208633094\n",
      "Iteration 1, loss = 0.21205687\n",
      "Training loss did not improve more than tol=0.000100 for 10 consecutive epochs. Stopping.\n",
      "Accuracy: 0.9156626506024096\n",
      "Iteration 1, loss = 0.20856840\n",
      "Training loss did not improve more than tol=0.000100 for 10 consecutive epochs. Stopping.\n",
      "Accuracy: 0.9485294117647058\n",
      "Iteration 1, loss = 0.37890718\n",
      "Training loss did not improve more than tol=0.000100 for 10 consecutive epochs. Stopping.\n",
      "Accuracy: 0.8804347826086957\n"
     ]
    },
    {
     "name": "stdout",
     "output_type": "stream",
     "text": [
      "Iteration 1, loss = 0.20126694\n",
      "Training loss did not improve more than tol=0.000100 for 10 consecutive epochs. Stopping.\n",
      "Accuracy: 0.9305555555555556\n",
      "Iteration 1, loss = 0.23384787\n",
      "Training loss did not improve more than tol=0.000100 for 10 consecutive epochs. Stopping.\n",
      "Accuracy: 0.916058394160584\n",
      "Iteration 1, loss = 0.28912526\n",
      "Training loss did not improve more than tol=0.000100 for 10 consecutive epochs. Stopping.\n",
      "Accuracy: 0.897887323943662\n",
      "Iteration 1, loss = 0.22620951\n",
      "Training loss did not improve more than tol=0.000100 for 10 consecutive epochs. Stopping.\n",
      "Accuracy: 0.9423076923076923\n",
      "Iteration 1, loss = 0.20138990\n",
      "Training loss did not improve more than tol=0.000100 for 10 consecutive epochs. Stopping.\n",
      "Accuracy: 0.9545454545454546\n",
      "Iteration 1, loss = 0.20730561\n",
      "Training loss did not improve more than tol=0.000100 for 10 consecutive epochs. Stopping.\n",
      "Accuracy: 0.94\n",
      "Iteration 1, loss = 0.24083179\n",
      "Training loss did not improve more than tol=0.000100 for 10 consecutive epochs. Stopping.\n",
      "Accuracy: 0.9346153846153846\n",
      "Iteration 1, loss = 0.19712012\n",
      "Training loss did not improve more than tol=0.000100 for 10 consecutive epochs. Stopping.\n",
      "Accuracy: 0.9583333333333334\n",
      "Iteration 1, loss = 0.11156173\n",
      "Accuracy: 0.9333333333333333\n"
     ]
    },
    {
     "name": "stdout",
     "output_type": "stream",
     "text": [
      "Iteration 1, loss = 0.29882150\n",
      "Accuracy: 0.9116719242902208\n",
      "Iteration 1, loss = 0.25668373\n",
      "Accuracy: 0.9063670411985019\n",
      "Iteration 1, loss = 0.25494048\n",
      "Accuracy: 0.9040404040404041\n",
      "Iteration 1, loss = 0.24302207\n",
      "Accuracy: 0.9197530864197531\n",
      "Iteration 1, loss = 0.18087456\n",
      "Accuracy: 0.9409722222222222\n",
      "Iteration 1, loss = 0.11825576\n",
      "Accuracy: 1.0\n",
      "Iteration 1, loss = 0.21005750\n",
      "Accuracy: 0.9285714285714286\n"
     ]
    },
    {
     "name": "stdout",
     "output_type": "stream",
     "text": [
      "Iteration 1, loss = 0.24788193\n",
      "Accuracy: 0.9228280961182994\n"
     ]
    },
    {
     "name": "stdout",
     "output_type": "stream",
     "text": [
      "Iteration 1, loss = 0.25068550\n",
      "Accuracy: 0.9158160485306405\n"
     ]
    },
    {
     "name": "stdout",
     "output_type": "stream",
     "text": [
      "Iteration 1, loss = 0.25751225\n",
      "Accuracy: 0.9302325581395349\n"
     ]
    },
    {
     "name": "stdout",
     "output_type": "stream",
     "text": [
      "Iteration 1, loss = 0.24481388\n",
      "Training loss did not improve more than tol=0.000100 for 10 consecutive epochs. Stopping.\n",
      "Accuracy: 0.9243071933962265\n"
     ]
    },
    {
     "name": "stdout",
     "output_type": "stream",
     "text": [
      "Iteration 1, loss = 0.18687088\n",
      "Training loss did not improve more than tol=0.000100 for 10 consecutive epochs. Stopping.\n",
      "Accuracy: 0.9405499564514123\n"
     ]
    },
    {
     "name": "stdout",
     "output_type": "stream",
     "text": [
      "Iteration 1, loss = 0.18709377\n",
      "Training loss did not improve more than tol=0.000100 for 10 consecutive epochs. Stopping.\n",
      "Accuracy: 0.9405991619798786\n"
     ]
    },
    {
     "name": "stdout",
     "output_type": "stream",
     "text": [
      "Iteration 1, loss = 0.18201162\n",
      "Training loss did not improve more than tol=0.000100 for 10 consecutive epochs. Stopping.\n",
      "Accuracy: 0.9391870893269402\n"
     ]
    },
    {
     "name": "stdout",
     "output_type": "stream",
     "text": [
      "Iteration 1, loss = 0.18241844\n",
      "Training loss did not improve more than tol=0.000100 for 10 consecutive epochs. Stopping.\n",
      "Accuracy: 0.9394955778743816\n",
      "Not enough training examples for GSE148504 SRR11538631\n",
      "The mean accuracy on the training datasets is: 0.9157308243711606\n"
     ]
    },
    {
     "name": "stdout",
     "output_type": "stream",
     "text": [
      "Accuracy on training data: 0.9046510684181845\n",
      "Accuracy on held out data: 0.9054325955734407\n"
     ]
    },
    {
     "name": "stdout",
     "output_type": "stream",
     "text": [
      "Accuracy on training data: 0.9027973293315361\n",
      "Accuracy on held out data: 0.8995983935742972\n"
     ]
    },
    {
     "name": "stdout",
     "output_type": "stream",
     "text": [
      "Accuracy on training data: 0.8729605360035341\n",
      "Accuracy on held out data: 0.86875\n"
     ]
    },
    {
     "name": "stdout",
     "output_type": "stream",
     "text": [
      "Accuracy on training data: 0.8748690900089495\n",
      "Accuracy on held out data: 0.8808808808808809\n"
     ]
    },
    {
     "name": "stdout",
     "output_type": "stream",
     "text": [
      "Accuracy on training data: 0.899492578578629\n",
      "Accuracy on held out data: 0.9072916666666667\n"
     ]
    },
    {
     "name": "stdout",
     "output_type": "stream",
     "text": [
      "Accuracy on training data: 0.8789176878863464\n",
      "Accuracy on held out data: 0.8798491379310345\n"
     ]
    },
    {
     "name": "stdout",
     "output_type": "stream",
     "text": [
      "Accuracy on training data: 0.8896023278370514\n",
      "Accuracy on held out data: 0.891\n"
     ]
    },
    {
     "name": "stdout",
     "output_type": "stream",
     "text": [
      "Not enough training examples for GSE148504 SRR11538631\n"
     ]
    },
    {
     "name": "stdout",
     "output_type": "stream",
     "text": [
      "Accuracy on training data: 0.9369808437482945\n",
      "Accuracy on held out data: 0.935625\n",
      "The mean accuracy on the training datasets is: 0.8950339327265657\n",
      "The mean accuracy on the held out datasets is: 0.8960534593282901\n"
     ]
    },
    {
     "name": "stdout",
     "output_type": "stream",
     "text": [
      "Accuracy: 0.9214158130893035\n"
     ]
    },
    {
     "name": "stdout",
     "output_type": "stream",
     "text": [
      "Accuracy: 0.9062526537939268\n",
      "The mean accuracy on the test datasets is: 0.9138342334416152\n",
      "training_data_acc_list: [0.9046510684181845, 0.9027973293315361, 0.8729605360035341, 0.8748690900089495, 0.899492578578629, 0.8789176878863464, 0.8896023278370514, 0.9369808437482945]\n",
      "held_out_data_acc_list: [0.9054325955734407, 0.8995983935742972, 0.86875, 0.8808808808808809, 0.9072916666666667, 0.8798491379310345, 0.891, 0.935625]\n",
      "test_acc_list: [0.9214158130893035, 0.9062526537939268]\n"
     ]
    },
    {
     "data": {
      "image/png": "[encoded data removed]",
      "text/plain": [
       "<Figure size 640x480 with 1 Axes>"
      ]
     },
     "metadata": {},
     "output_type": "display_data"
    }
   ],
   "source": [
    "\n",
    "start_time = time.time() \n",
    "\n",
    "# ------------------- Train the MLP model -------------------\n",
    "polya_mlp = MLPClassifier(hidden_layer_sizes=(100,), max_iter=200, alpha=1e-4,\n",
    "                    solver='adam', verbose=10, random_state=random_seed, shuffle=True,\n",
    "                    learning_rate_init=0.001)\n",
    "\n",
    "held_out_polya = sp.csr_matrix((0, 150))\n",
    "held_out_polya_bg = sp.csr_matrix((0, 150)) \n",
    "random.seed(random_seed)\n",
    "train_list = PE_sheet.loc[PE_sheet['GSE'].isin(random.sample(PE_sheet['GSE'].unique().tolist(), 8))]\n",
    "num_srr = {GSE: group_gse_lst.shape[0] for (GSE, group_gse_lst) in train_list.groupby('GSE')}\n",
    "# initialize the sparse matrix \n",
    "training_batch = sp.csr_matrix((0, 150))\n",
    "\n",
    "training_data_acc_list_during_train = []\n",
    "\n",
    "# we group by GSE, then loop through SRRs to get the polya seq\n",
    "for i, (GSE, group_gse_lst) in enumerate(train_list.groupby('GSE')):\n",
    "    SRR_lst = group_gse_lst['SRR']\n",
    "    num_held_out = 1000//len(SRR_lst)\n",
    "    \n",
    "    for SRR in SRR_lst:\n",
    "        # The 30 bases are defined according to R2. So, they should always be polyA\n",
    "\n",
    "        polya_path = os.path.join(\n",
    "            parent_dir, \"process_data\", \"frag_len_dist\", GSE, SRR, \"priming_site_seqs\", \"polya_seq.txt\")\n",
    "        bg_path = os.path.join(\n",
    "            parent_dir, \"process_data\", \"frag_len_dist\", GSE, SRR, \"priming_site_seqs\", \"polya_bg_seq.txt\")\n",
    "\n",
    "        # get polya and bg seq\n",
    "        # we want to make sure the polya seq has a polyA six mer with at most one mismatch\n",
    "        polya_batch = encoder.fit_transform([list(x.strip()) for x in open(polya_path).readlines() if len(x.strip()) == 30 and regex.search(\"A(\" + 'A' * (snr_len-2)+ \"){s<=\" + str(snr_mismatch) +\"}A\", x.strip())])\n",
    "\n",
    "        # polya_batch = encoder.fit_transform([list(x.strip()) for x in open(polya_path).readlines() if len(x.strip()) == 30])\n",
    "        \n",
    "        # if we do not have enough data, then skip this SRR\n",
    "        if polya_batch.shape[0] < num_held_out * 2:\n",
    "            print(\"Not enough training examples for\", GSE, SRR)\n",
    "            continue\n",
    "        \n",
    "        bg_batch = encoder.fit_transform([list(x.strip()) for x in open(bg_path).readlines() if len(x.strip()) == 30])\n",
    "        \n",
    "        # if we do not have enough data, then skip this SRR\n",
    "        if bg_batch.shape[0] < num_held_out * 2:\n",
    "            print(\"Not enough background examples for\", GSE, SRR)\n",
    "            continue\n",
    "        \n",
    "        # num_held_out = min(math.ceil(polya_batch.shape[0] * 0.1), 20)\n",
    "        num_train_fg = polya_batch.shape[0]\n",
    "        num_train_bg = min(num_train_fg, bg_batch.shape[0])\n",
    "\n",
    "        polya_batch = polya_batch[np.random.randint(0, polya_batch.shape[0], size = num_train_fg), : ]\n",
    "        bg_batch = bg_batch[np.random.randint(0, bg_batch.shape[0], size = num_train_bg), : ]\n",
    "        \n",
    "        fg_shuf_id = np.arange((num_train_fg+num_train_bg-num_held_out*2))\n",
    "        np.random.shuffle(fg_shuf_id)\n",
    "\n",
    "        # build training data\n",
    "        train_polya = sp.vstack([\n",
    "            polya_batch[num_held_out:],\n",
    "            bg_batch[num_held_out:]\n",
    "        ])[fg_shuf_id,:]\n",
    "        \n",
    "        del polya_batch\n",
    "        del bg_batch\n",
    "        \n",
    "        label_polya = np.hstack([\n",
    "            np.ones(num_train_fg - num_held_out), \n",
    "            np.zeros(num_train_bg - num_held_out)\n",
    "        ])[fg_shuf_id]\n",
    "        \n",
    "        # fit the model using the data from this SRR\n",
    "        polya_mlp.partial_fit(\n",
    "            train_polya,\n",
    "            label_polya,\n",
    "            classes=[0,1]\n",
    "        )\n",
    "        acc = accuracy_score(label_polya, \n",
    "            polya_mlp.predict(train_polya))\n",
    "        training_data_acc_list_during_train.append(acc)\n",
    "        # get the accuracy on the held out data\n",
    "        print(\"Accuracy:\", acc)\n",
    "\n",
    "\n",
    "print(\"The mean accuracy on the training datasets is:\", sum(training_data_acc_list_during_train)/len(training_data_acc_list_during_train))\n",
    "\n",
    "# ------------------- Test the model(partI)-------------------\n",
    "# Test the model on the training sets and held out sets for each srr\n",
    "random.seed(random_seed)\n",
    "train_list = PE_sheet.loc[PE_sheet['GSE'].isin(random.sample(PE_sheet['GSE'].unique().tolist(), 8))]\n",
    "num_srr = {GSE: group_gse_lst.shape[0] for (GSE, group_gse_lst) in train_list.groupby('GSE')}\n",
    "# initialize the sparse matrix \n",
    "training_batch = sp.csr_matrix((0, 150))\n",
    "held_out_polya = sp.csr_matrix((0, 150))\n",
    "held_out_polya_bg = sp.csr_matrix((0, 150)) \n",
    "\n",
    "training_data_acc_list = []\n",
    "held_out_data_acc_list = []\n",
    "\n",
    "# we group by GSE, then loop through SRRs to get the polya seq\n",
    "for i, (GSE, group_gse_lst) in enumerate(train_list.groupby('GSE')):\n",
    "    SRR_lst = group_gse_lst['SRR']\n",
    "    num_held_out = 1000//len(SRR_lst)\n",
    "    # inital the matrix/list for each GSE\n",
    "    train_polya_per_gse = sp.csr_matrix((0, 150))\n",
    "    train_label_per_gse = np.array([])\n",
    "\n",
    "    held_out_polya_per_gse = sp.csr_matrix((0, 150))\n",
    "    held_out_label_per_gse = np.array([])\n",
    "\n",
    "    for SRR in SRR_lst:\n",
    "        # The 30 bases are defined according to R2. So, they should always be polyA\n",
    "        polya_path = os.path.join(\n",
    "            parent_dir, \"process_data\", \"frag_len_dist\", GSE, SRR, \"priming_site_seqs\", \"polya_seq.txt\")\n",
    "        bg_path = os.path.join(\n",
    "            parent_dir, \"process_data\", \"frag_len_dist\", GSE, SRR, \"priming_site_seqs\", \"polya_bg_seq.txt\")\n",
    "\n",
    "        # get polya and bg seq\n",
    "        # we want to make sure the polya seq has a polyA six mer with at most one mismatch\n",
    "        polya_batch = encoder.fit_transform([list(x.strip()) for x in open(polya_path).readlines() if len(x.strip()) == 30 and regex.search(\"A(\" + 'A' * (snr_len-2)+ \"){s<=\" + str(snr_mismatch) +\"}A\", x.strip())])\n",
    "        \n",
    "        # polya_batch = encoder.fit_transform([list(x.strip()) for x in open(polya_path).readlines() if len(x.strip()) == 30])\n",
    "        \n",
    "        # if we do not have enough data, then skip this SRR\n",
    "        if polya_batch.shape[0] < num_held_out * 2:\n",
    "            print(\"Not enough training examples for\", GSE, SRR)\n",
    "            continue\n",
    "        \n",
    "        bg_batch = encoder.fit_transform([list(x.strip()) for x in open(bg_path).readlines() if len(x.strip()) == 30])\n",
    "        \n",
    "        # if we do not have enough data, then skip this SRR\n",
    "        if bg_batch.shape[0] < num_held_out * 2:\n",
    "            print(\"Not enough background examples for\", GSE, SRR)\n",
    "            continue\n",
    "        \n",
    "        # num_held_out = min(math.ceil(polya_batch.shape[0] * 0.1), 20)\n",
    "        num_train_fg = polya_batch.shape[0]\n",
    "        num_train_bg = min(num_train_fg, bg_batch.shape[0])\n",
    "\n",
    "        polya_batch = polya_batch[np.random.randint(0, polya_batch.shape[0], size = num_train_fg), : ]\n",
    "        bg_batch = bg_batch[np.random.randint(0, bg_batch.shape[0], size = num_train_bg), : ]\n",
    "\n",
    "        # append held out data\n",
    "        polya_held_out = polya_batch[:num_held_out,]\n",
    "        bg_held_out = bg_batch[:num_held_out,]\n",
    "        \n",
    "        fg_shuf_id = np.arange((num_train_fg+num_train_bg-num_held_out*2))\n",
    "        np.random.shuffle(fg_shuf_id)\n",
    "\n",
    "        # build training data\n",
    "        train_polya = sp.vstack([\n",
    "            polya_batch[num_held_out:],\n",
    "            bg_batch[num_held_out:]\n",
    "        ])[fg_shuf_id,:]\n",
    "        \n",
    "        del polya_batch\n",
    "        del bg_batch\n",
    "        \n",
    "        label_polya = np.hstack([\n",
    "            np.ones(num_train_fg - num_held_out), \n",
    "            np.zeros(num_train_bg - num_held_out)\n",
    "        ])[fg_shuf_id]\n",
    "\n",
    "        # group the train data by gse\n",
    "        train_polya_per_gse = sp.vstack([train_polya_per_gse, train_polya])\n",
    "        train_label_per_gse = np.hstack([train_label_per_gse, label_polya])\n",
    "\n",
    "        #group the held out data by gse\n",
    "        held_out_label_per_gse = np.hstack([held_out_label_per_gse, np.hstack([np.ones(num_held_out), np.zeros(num_held_out)])])\n",
    "        held_out_polya_per_gse = sp.vstack([held_out_polya_per_gse, sp.vstack([polya_held_out, bg_held_out])])\n",
    "\n",
    "    # accuracy for classification on the training data\n",
    "    acc_train = accuracy_score(train_label_per_gse, \n",
    "        polya_mlp.predict(train_polya_per_gse))\n",
    "    training_data_acc_list.append(acc_train)\n",
    "    print(\"Accuracy on training data:\", acc_train)\n",
    "\n",
    "    # accuracy for classification on the held out data\n",
    "    acc_held_out = accuracy_score(held_out_label_per_gse, \n",
    "        polya_mlp.predict(held_out_polya_per_gse))\n",
    "    held_out_data_acc_list.append(acc_held_out)\n",
    "    print(\"Accuracy on held out data:\", acc_held_out)\n",
    "\n",
    "print(\"The mean accuracy on the training datasets is:\", sum(training_data_acc_list)/len(training_data_acc_list))\n",
    "print(\"The mean accuracy on the held out datasets is:\", sum(held_out_data_acc_list)/len(held_out_data_acc_list))\n",
    "\n",
    "# --------- Test the model (partII)-----------------\n",
    "# we also want to test the accuracy on test datasets\n",
    "# we read in the test data\n",
    "random.seed(random_seed)\n",
    "test_list = PE_sheet.loc[~PE_sheet['GSE'].isin(random.sample(PE_sheet['GSE'].unique().tolist(), 8))]\n",
    "test_acc_list = []\n",
    "# we group by GSE, then loop through SRRs to get the polya seq\n",
    "for i, (GSE, group_gse_lst) in enumerate(test_list.groupby('GSE')):\n",
    "    SRR_lst = group_gse_lst['SRR']\n",
    "\n",
    "    test_polya_per_gse = sp.csr_matrix((0, 150))\n",
    "    test_label_per_gse = np.array([])\n",
    "    \n",
    "    for SRR in SRR_lst:\n",
    "        # The 30 bases are defined according to R2. So, they should always be polyA\n",
    "\n",
    "        polya_path = os.path.join(\n",
    "            parent_dir, \"process_data\", \"frag_len_dist\", GSE, SRR, \"priming_site_seqs\", \"polya_seq.txt\")\n",
    "        bg_path = os.path.join(\n",
    "            parent_dir, \"process_data\", \"frag_len_dist\", GSE, SRR, \"priming_site_seqs\", \"polya_bg_seq.txt\")\n",
    "\n",
    "        # get polya and bg seq\n",
    "        # we want to make sure the polya seq has a polyA six mer with at most one mismatch\n",
    "        polya_batch = encoder.fit_transform([list(x.strip()) for x in open(polya_path).readlines() if len(x.strip()) == 30 and regex.search(\"A(\" + 'A' * (snr_len-2)+ \"){s<=\" + str(snr_mismatch) +\"}A\", x.strip())])\n",
    "        # polya_batch = encoder.fit_transform([list(x.strip()) for x in open(polya_path).readlines() if len(x.strip()) == 30])\n",
    "        \n",
    "        # if we do not have enough data, then skip this SRR\n",
    "        if polya_batch.shape[0] < num_held_out * 2:\n",
    "            print(\"Not enough training examples for\", GSE, SRR)\n",
    "            continue\n",
    "        \n",
    "        bg_batch = encoder.fit_transform([list(x.strip()) for x in open(bg_path).readlines() if len(x.strip()) == 30])\n",
    "        \n",
    "        # if we do not have enough data, then skip this SRR\n",
    "        if bg_batch.shape[0] < num_held_out * 2:\n",
    "            print(\"Not enough background examples for\", GSE, SRR)\n",
    "            continue\n",
    "        \n",
    "        # build training data\n",
    "        test_polya = sp.vstack([\n",
    "            polya_batch[random.sample(range(polya_batch.shape[0]), min(polya_batch.shape[0], bg_batch.shape[0])), : ],\n",
    "            bg_batch[random.sample(range(bg_batch.shape[0]), min(polya_batch.shape[0], bg_batch.shape[0])), : ]\n",
    "        ])\n",
    "        label_polya = np.hstack([\n",
    "            np.ones(min(polya_batch.shape[0], bg_batch.shape[0])), \n",
    "            np.zeros(min(polya_batch.shape[0], bg_batch.shape[0]))\n",
    "        ])\n",
    "\n",
    "        del polya_batch\n",
    "        del bg_batch\n",
    "\n",
    "        # group the test data by gse\n",
    "        test_polya_per_gse = sp.vstack([test_polya_per_gse, test_polya])\n",
    "        test_label_per_gse = np.hstack([test_label_per_gse, label_polya])\n",
    "        \n",
    "        \n",
    "    # get the accuracy on the held out data\n",
    "    acc_scores = accuracy_score(\n",
    "        test_label_per_gse, \n",
    "        polya_mlp.predict(test_polya_per_gse))\n",
    "    test_acc_list.append(acc_scores)\n",
    "    print(\"Accuracy:\", acc_scores)\n",
    "\n",
    "\n",
    "print(\"The mean accuracy on the test datasets is:\", sum(test_acc_list)/len(test_acc_list))\n",
    "\n",
    "# outdir = '/fs/nexus-projects/sc_frag_len/nextflow/workflow_output/models/mlp_model'\n",
    "accuracy_file_path = os.path.join(outdir, \"accuracy_3_lists.pkl\")\n",
    "joblib.dump([training_data_acc_list, held_out_data_acc_list, test_acc_list], accuracy_file_path)\n",
    "\n",
    "[training_data_acc_list, held_out_data_acc_list, test_acc_list]= joblib.load(accuracy_file_path, \"rb\")\n",
    "# accuracy log\n",
    "acc_dict = {\n",
    "    \"training_data_acc_list\": training_data_acc_list,\n",
    "    \"held_out_data_acc_list\": held_out_data_acc_list,\n",
    "    \"test_acc_list\": test_acc_list\n",
    "}\n",
    "with open(os.path.join(outdir, 'acc_list_log.txt'),'w') as file:\n",
    "    file.write(f\"The time used for training the model is: {time.time() - start_time} seconds\\n\")\n",
    "    for l_name, acc_list in acc_dict.items():\n",
    "        file.write( '---------'+ \"\\n\")\n",
    "        file.write(l_name + \"\\n\")\n",
    "        for acc_num in acc_list:\n",
    "                file.write(str(acc_num)+\"\\n\")\n",
    "file.close()\n",
    "\n",
    "#------------------- Save the model -------------------\n",
    "model_pkl_path = os.path.join(outdir, f'mlp.pkl')\n",
    "joblib.dump(polya_mlp, model_pkl_path)\n",
    "\n",
    "# Combine the lists into a single dataset with corresponding labels\n",
    "data = training_data_acc_list + held_out_data_acc_list + test_acc_list\n",
    "labels = ['Training'] * len(training_data_acc_list) + ['Hold out'] * len(held_out_data_acc_list) + ['Test'] * len(test_acc_list)\n",
    "print(f\"training_data_acc_list: {training_data_acc_list}\")\n",
    "print(f\"held_out_data_acc_list: {held_out_data_acc_list}\")\n",
    "print(f\"test_acc_list: {test_acc_list}\")\n",
    "# Create a DataFrame for easier plotting with Seaborn\n",
    "df = pd.DataFrame({'Data': data, 'Datasets': labels})\n",
    "\n",
    "# Create the violin plot\n",
    "sns.violinplot(x='Datasets', y='Data', data=df)\n",
    "plt.title(\"Distribution of prediction accuracy of MLP\")\n",
    "plt.ylabel('Accuracy')\n",
    "plt.savefig(os.path.join(outdir, f\"violin_plot_per_gse.png\"),dpi = 300)\n",
    "plt.show()\n",
    "\n",
    "\n",
    "        \n",
    "\n"
   ]
  }
 ],
 "metadata": {
  "kernelspec": {
   "display_name": "Python 3",
   "language": "python",
   "name": "python3"
  },
  "language_info": {
   "codemirror_mode": {
    "name": "ipython",
    "version": 3
   },
   "file_extension": ".py",
   "mimetype": "text/x-python",
   "name": "python",
   "nbconvert_exporter": "python",
   "pygments_lexer": "ipython3",
   "version": "3.10.13"
  }
 },
 "nbformat": 4,
 "nbformat_minor": 2
}
