{
 "cells": [
  {
   "cell_type": "code",
   "execution_count": 1,
   "metadata": {
    "execution": {
     "iopub.execute_input": "2024-01-31T16:19:17.182204Z",
     "iopub.status.busy": "2024-01-31T16:19:17.182059Z",
     "iopub.status.idle": "2024-01-31T16:19:28.649914Z",
     "shell.execute_reply": "2024-01-31T16:19:28.649477Z"
    }
   },
   "outputs": [
    {
     "name": "stdout",
     "output_type": "stream",
     "text": [
      "{'parent_dir': 'workflow_output', 'PE_sheet': 'sample_url_sheet.csv', 'outdir': 'mlp_model', 'random_seed': 1, 'snr_len': 6, 'snr_mismatch': 1}\n"
     ]
    }
   ],
   "source": [
    "import os\n",
    "import sys\n",
    "import argparse\n",
    "import pandas as pd\n",
    "import numpy as np\n",
    "from scipy import interpolate\n",
    "from collections import Counter\n",
    "import scipy.sparse as sp\n",
    "import math\n",
    "import json\n",
    "import random\n",
    "import pickle\n",
    "import regex\n",
    "from sklearn.neural_network import MLPClassifier, MLPRegressor\n",
    "from sklearn.preprocessing import OneHotEncoder\n",
    "from sklearn.metrics import accuracy_score, mean_squared_error\n",
    "\n",
    "\"\"\"\n",
    "This script trains a MLP classifier to predict the binding affinity of a 30 bases sequence w.r.t. the obtained priming window.\n",
    "\n",
    "The training data is obtained from the upstream 30 bases of the alignments of R1 in our paired-end read alignment results from the genome. The training data has the same orientation as its read2, so, it should contain a polyA site.\n",
    "As reads might come from polyA tails, which are not included in the genome, we would expect that some of the input data come from intergenic regions and do not correspond to a polyA site. This is saying our labels are noisy, so we would not expect to obtain perfect accuracy.\n",
    "\n",
    "We train a MLP classifier by reading the training data from each SRR and call `partial_fit` to update the model. \n",
    "\n",
    "\"\"\"\n",
    "\n",
    "parser = json.load(open(\"params.json\", \"r\"))\n",
    "parent_dir = parser[\"parent_dir\"]\n",
    "PE_sheet = parser[\"PE_sheet\"]\n",
    "outdir = parser[\"outdir\"]\n",
    "random_seed = parser[\"random_seed\"]\n",
    "snr_len = parser[\"snr_len\"]\n",
    "snr_mismatch = parser[\"snr_mismatch\"]\n",
    "\n",
    "outdir = outdir\n",
    "print(parser)\n",
    "\n",
    "os.makedirs(outdir, exist_ok=True)\n"
   ]
  },
  {
   "cell_type": "code",
   "execution_count": 2,
   "metadata": {
    "execution": {
     "iopub.execute_input": "2024-01-31T16:19:28.677049Z",
     "iopub.status.busy": "2024-01-31T16:19:28.676720Z",
     "iopub.status.idle": "2024-01-31T16:19:33.680904Z",
     "shell.execute_reply": "2024-01-31T16:19:33.680482Z"
    }
   },
   "outputs": [],
   "source": [
    "\n",
    "encoder = OneHotEncoder(categories=[['A', 'C', 'G', 'T', 'N']] * 30, handle_unknown='ignore')\n",
    "\n",
    "parent_dir = parent_dir\n",
    "# 1----- Get the PE datasets spreadsheet\n",
    "PE_sheet = pd.read_csv(PE_sheet)\n",
    "\n",
    "# 2----- loop through GSE(s), combine all tlen from its SRR\n",
    "# check if we have all datasets processed\n",
    "missing_files = []\n",
    "\n",
    "for (GSE, group_gse_lst) in PE_sheet.groupby('GSE'):\n",
    "    SRR_lst = group_gse_lst['SRR']\n",
    "    for SRR in SRR_lst:\n",
    "        polya_path = os.path.join(\n",
    "            parent_dir, \"process_data\", \"frag_len_dist\", GSE, SRR, \"priming_site_seqs\", \"polya_seq.txt\")\n",
    "\n",
    "        if os.path.exists(polya_path):\n",
    "            check_file = os.path.getsize(polya_path)\n",
    "            if (check_file == 0):\n",
    "                missing_files.append(f\"{GSE}-{SRR}\")\n",
    "                error_occur = True\n",
    "        else:\n",
    "            missing_files.append(f\"{GSE}-{SRR}\")\n",
    "            error_occur = True\n",
    "\n",
    "if missing_files:\n",
    "    raise ValueError(f\"Please re-run the previous step, the output of following dataset(s) is either missing or empty: {missing_files}\")\n"
   ]
  },
  {
   "cell_type": "code",
   "execution_count": 3,
   "metadata": {
    "execution": {
     "iopub.execute_input": "2024-01-31T16:19:33.683343Z",
     "iopub.status.busy": "2024-01-31T16:19:33.683156Z",
     "iopub.status.idle": "2024-01-31T16:43:59.903009Z",
     "shell.execute_reply": "2024-01-31T16:43:59.902514Z"
    }
   },
   "outputs": [
    {
     "name": "stdout",
     "output_type": "stream",
     "text": [
      "Iteration 1, loss = 0.23050745\n",
      "Accuracy: 0.918\n"
     ]
    },
    {
     "name": "stdout",
     "output_type": "stream",
     "text": [
      "Iteration 1, loss = 0.22794548\n",
      "Accuracy: 0.9225352112676056\n"
     ]
    },
    {
     "name": "stdout",
     "output_type": "stream",
     "text": [
      "Iteration 1, loss = 0.23990190\n",
      "Accuracy: 0.9084507042253521\n"
     ]
    },
    {
     "name": "stdout",
     "output_type": "stream",
     "text": [
      "Iteration 1, loss = 0.24675366\n",
      "Accuracy: 0.8450704225352113\n"
     ]
    },
    {
     "name": "stdout",
     "output_type": "stream",
     "text": [
      "Iteration 1, loss = 0.24989827\n",
      "Accuracy: 0.9154929577464789\n"
     ]
    },
    {
     "name": "stdout",
     "output_type": "stream",
     "text": [
      "Iteration 1, loss = 0.24654350\n",
      "Accuracy: 0.9014084507042254\n"
     ]
    },
    {
     "name": "stdout",
     "output_type": "stream",
     "text": [
      "Iteration 1, loss = 0.23868496\n",
      "Accuracy: 0.8802816901408451\n"
     ]
    },
    {
     "name": "stdout",
     "output_type": "stream",
     "text": [
      "Iteration 1, loss = 0.22755573\n",
      "Accuracy: 0.9225352112676056\n"
     ]
    },
    {
     "name": "stdout",
     "output_type": "stream",
     "text": [
      "Iteration 1, loss = 0.23264007\n",
      "Accuracy: 0.9014084507042254\n"
     ]
    },
    {
     "name": "stdout",
     "output_type": "stream",
     "text": [
      "Iteration 1, loss = 0.24192234\n",
      "Accuracy: 0.9225352112676056\n"
     ]
    },
    {
     "name": "stdout",
     "output_type": "stream",
     "text": [
      "Iteration 1, loss = 0.23932190\n",
      "Accuracy: 0.8943661971830986\n"
     ]
    },
    {
     "name": "stdout",
     "output_type": "stream",
     "text": [
      "Iteration 1, loss = 0.24625334\n",
      "Accuracy: 0.9014084507042254\n"
     ]
    },
    {
     "name": "stdout",
     "output_type": "stream",
     "text": [
      "Iteration 1, loss = 0.24967864\n",
      "Accuracy: 0.8943661971830986\n"
     ]
    },
    {
     "name": "stdout",
     "output_type": "stream",
     "text": [
      "Iteration 1, loss = 0.25003547\n",
      "Accuracy: 0.9084507042253521\n"
     ]
    },
    {
     "name": "stdout",
     "output_type": "stream",
     "text": [
      "Iteration 1, loss = 0.22184379\n",
      "Accuracy: 0.8802816901408451\n"
     ]
    },
    {
     "name": "stdout",
     "output_type": "stream",
     "text": [
      "Iteration 1, loss = 0.23905608\n",
      "Accuracy: 0.9054054054054054\n"
     ]
    },
    {
     "name": "stdout",
     "output_type": "stream",
     "text": [
      "Iteration 1, loss = 0.24733760\n",
      "Accuracy: 0.9324324324324325\n"
     ]
    },
    {
     "name": "stdout",
     "output_type": "stream",
     "text": [
      "Iteration 1, loss = 0.24734331\n",
      "Accuracy: 0.8828828828828829\n"
     ]
    },
    {
     "name": "stdout",
     "output_type": "stream",
     "text": [
      "Iteration 1, loss = 0.23523795\n",
      "Accuracy: 0.8783783783783784\n"
     ]
    },
    {
     "name": "stdout",
     "output_type": "stream",
     "text": [
      "Iteration 1, loss = 0.24034690\n",
      "Accuracy: 0.9099099099099099\n"
     ]
    },
    {
     "name": "stdout",
     "output_type": "stream",
     "text": [
      "Iteration 1, loss = 0.23539133\n",
      "Accuracy: 0.8828828828828829\n"
     ]
    },
    {
     "name": "stdout",
     "output_type": "stream",
     "text": [
      "Iteration 1, loss = 0.22957478\n",
      "Accuracy: 0.9144144144144144\n"
     ]
    },
    {
     "name": "stdout",
     "output_type": "stream",
     "text": [
      "Iteration 1, loss = 0.23635629\n",
      "Accuracy: 0.8963963963963963\n"
     ]
    },
    {
     "name": "stdout",
     "output_type": "stream",
     "text": [
      "Iteration 1, loss = 0.22892798\n",
      "Accuracy: 0.8738738738738738\n"
     ]
    },
    {
     "name": "stdout",
     "output_type": "stream",
     "text": [
      "Iteration 1, loss = 0.21747809\n",
      "Accuracy: 0.9246987951807228\n"
     ]
    },
    {
     "name": "stdout",
     "output_type": "stream",
     "text": [
      "Iteration 1, loss = 0.23248102\n",
      "Accuracy: 0.8975903614457831\n"
     ]
    },
    {
     "name": "stdout",
     "output_type": "stream",
     "text": [
      "Iteration 1, loss = 0.21484872\n",
      "Accuracy: 0.9216867469879518\n"
     ]
    },
    {
     "name": "stdout",
     "output_type": "stream",
     "text": [
      "Iteration 1, loss = 0.22581230\n",
      "Accuracy: 0.9126506024096386\n"
     ]
    },
    {
     "name": "stdout",
     "output_type": "stream",
     "text": [
      "Iteration 1, loss = 0.21462839\n",
      "Accuracy: 0.8975903614457831\n"
     ]
    },
    {
     "name": "stdout",
     "output_type": "stream",
     "text": [
      "Iteration 1, loss = 0.21187902\n",
      "Accuracy: 0.8855421686746988\n"
     ]
    },
    {
     "name": "stdout",
     "output_type": "stream",
     "text": [
      "Iteration 1, loss = 0.26421668\n",
      "Accuracy: 0.8873873873873874\n"
     ]
    },
    {
     "name": "stdout",
     "output_type": "stream",
     "text": [
      "Iteration 1, loss = 0.25022885\n",
      "Accuracy: 0.8858858858858859\n"
     ]
    },
    {
     "name": "stdout",
     "output_type": "stream",
     "text": [
      "Iteration 1, loss = 0.26415883\n",
      "Accuracy: 0.9084084084084084\n",
      "Iteration 1, loss = 0.33464810\n",
      "Accuracy: 0.8125\n",
      "Iteration 1, loss = 0.30949506\n",
      "Accuracy: 0.9375\n",
      "Iteration 1, loss = 0.32599999\n",
      "Accuracy: 0.875\n",
      "Iteration 1, loss = 0.28125567\n",
      "Accuracy: 1.0\n"
     ]
    },
    {
     "name": "stdout",
     "output_type": "stream",
     "text": [
      "Iteration 1, loss = 0.26058216\n",
      "Accuracy: 0.8125\n",
      "Iteration 1, loss = 0.31167263\n",
      "Accuracy: 0.9375\n",
      "Iteration 1, loss = 0.29960605\n",
      "Accuracy: 0.875\n",
      "Iteration 1, loss = 0.29171059\n",
      "Training loss did not improve more than tol=0.000100 for 10 consecutive epochs. Stopping.\n",
      "Accuracy: 0.9375\n",
      "Iteration 1, loss = 0.29103689\n",
      "Training loss did not improve more than tol=0.000100 for 10 consecutive epochs. Stopping.\n",
      "Accuracy: 0.875\n"
     ]
    },
    {
     "name": "stdout",
     "output_type": "stream",
     "text": [
      "Iteration 1, loss = 0.34728059\n",
      "Training loss did not improve more than tol=0.000100 for 10 consecutive epochs. Stopping.\n",
      "Accuracy: 0.8125\n",
      "Iteration 1, loss = 0.39410426\n",
      "Training loss did not improve more than tol=0.000100 for 10 consecutive epochs. Stopping.\n",
      "Accuracy: 0.625\n",
      "Iteration 1, loss = 0.35770228\n",
      "Training loss did not improve more than tol=0.000100 for 10 consecutive epochs. Stopping.\n",
      "Accuracy: 0.9375\n",
      "Iteration 1, loss = 0.37983913\n",
      "Training loss did not improve more than tol=0.000100 for 10 consecutive epochs. Stopping.\n",
      "Accuracy: 0.9375\n"
     ]
    },
    {
     "name": "stdout",
     "output_type": "stream",
     "text": [
      "Iteration 1, loss = 0.34331456\n",
      "Training loss did not improve more than tol=0.000100 for 10 consecutive epochs. Stopping.\n",
      "Accuracy: 0.6875\n",
      "Iteration 1, loss = 0.30495622\n",
      "Training loss did not improve more than tol=0.000100 for 10 consecutive epochs. Stopping.\n",
      "Accuracy: 0.875\n",
      "Iteration 1, loss = 0.33520041\n",
      "Training loss did not improve more than tol=0.000100 for 10 consecutive epochs. Stopping.\n",
      "Accuracy: 0.75\n",
      "Iteration 1, loss = 0.27048017\n",
      "Training loss did not improve more than tol=0.000100 for 10 consecutive epochs. Stopping.\n",
      "Accuracy: 0.875\n",
      "Iteration 1, loss = 0.24116651\n",
      "Training loss did not improve more than tol=0.000100 for 10 consecutive epochs. Stopping.\n",
      "Accuracy: 0.875\n",
      "Iteration 1, loss = 0.32507110\n",
      "Training loss did not improve more than tol=0.000100 for 10 consecutive epochs. Stopping.\n",
      "Accuracy: 0.75\n"
     ]
    },
    {
     "name": "stdout",
     "output_type": "stream",
     "text": [
      "Iteration 1, loss = 0.31139178\n",
      "Training loss did not improve more than tol=0.000100 for 10 consecutive epochs. Stopping.\n",
      "Accuracy: 0.875\n",
      "Iteration 1, loss = 0.33054030\n",
      "Training loss did not improve more than tol=0.000100 for 10 consecutive epochs. Stopping.\n",
      "Accuracy: 0.8125\n",
      "Iteration 1, loss = 0.31409262\n",
      "Training loss did not improve more than tol=0.000100 for 10 consecutive epochs. Stopping.\n",
      "Accuracy: 0.875\n",
      "Iteration 1, loss = 0.27469125\n",
      "Training loss did not improve more than tol=0.000100 for 10 consecutive epochs. Stopping.\n",
      "Accuracy: 0.9375\n"
     ]
    },
    {
     "name": "stdout",
     "output_type": "stream",
     "text": [
      "Iteration 1, loss = 0.31933778\n",
      "Training loss did not improve more than tol=0.000100 for 10 consecutive epochs. Stopping.\n",
      "Accuracy: 0.75\n",
      "Iteration 1, loss = 0.27037652\n",
      "Training loss did not improve more than tol=0.000100 for 10 consecutive epochs. Stopping.\n",
      "Accuracy: 0.8125\n",
      "Iteration 1, loss = 0.28145712\n",
      "Training loss did not improve more than tol=0.000100 for 10 consecutive epochs. Stopping.\n",
      "Accuracy: 0.875\n",
      "Iteration 1, loss = 0.23609085\n",
      "Training loss did not improve more than tol=0.000100 for 10 consecutive epochs. Stopping.\n",
      "Accuracy: 0.875\n"
     ]
    },
    {
     "name": "stdout",
     "output_type": "stream",
     "text": [
      "Iteration 1, loss = 0.29781502\n",
      "Training loss did not improve more than tol=0.000100 for 10 consecutive epochs. Stopping.\n",
      "Accuracy: 0.875\n",
      "Iteration 1, loss = 0.25084802\n",
      "Training loss did not improve more than tol=0.000100 for 10 consecutive epochs. Stopping.\n",
      "Accuracy: 0.8125\n",
      "Iteration 1, loss = 0.28724942\n",
      "Training loss did not improve more than tol=0.000100 for 10 consecutive epochs. Stopping.\n",
      "Accuracy: 0.6875\n"
     ]
    },
    {
     "name": "stdout",
     "output_type": "stream",
     "text": [
      "Iteration 1, loss = 0.36170167\n",
      "Training loss did not improve more than tol=0.000100 for 10 consecutive epochs. Stopping.\n",
      "Accuracy: 0.75\n",
      "Iteration 1, loss = 0.30990570\n",
      "Training loss did not improve more than tol=0.000100 for 10 consecutive epochs. Stopping.\n",
      "Accuracy: 0.6875\n",
      "Iteration 1, loss = 0.37563491\n",
      "Training loss did not improve more than tol=0.000100 for 10 consecutive epochs. Stopping.\n",
      "Accuracy: 0.875\n",
      "Iteration 1, loss = 0.24583507\n",
      "Training loss did not improve more than tol=0.000100 for 10 consecutive epochs. Stopping.\n",
      "Accuracy: 0.9375\n",
      "Iteration 1, loss = 0.37263483\n",
      "Training loss did not improve more than tol=0.000100 for 10 consecutive epochs. Stopping.\n",
      "Accuracy: 0.9375\n"
     ]
    },
    {
     "name": "stdout",
     "output_type": "stream",
     "text": [
      "Iteration 1, loss = 0.34679929\n",
      "Training loss did not improve more than tol=0.000100 for 10 consecutive epochs. Stopping.\n",
      "Accuracy: 0.875\n",
      "Iteration 1, loss = 0.26126076\n",
      "Training loss did not improve more than tol=0.000100 for 10 consecutive epochs. Stopping.\n",
      "Accuracy: 0.9375\n",
      "Iteration 1, loss = 0.33442162\n",
      "Training loss did not improve more than tol=0.000100 for 10 consecutive epochs. Stopping.\n",
      "Accuracy: 0.875\n",
      "Iteration 1, loss = 0.36637953\n",
      "Training loss did not improve more than tol=0.000100 for 10 consecutive epochs. Stopping.\n",
      "Accuracy: 0.8125\n",
      "Iteration 1, loss = 0.32785751\n",
      "Training loss did not improve more than tol=0.000100 for 10 consecutive epochs. Stopping.\n",
      "Accuracy: 0.9375\n",
      "Iteration 1, loss = 0.29891650\n",
      "Training loss did not improve more than tol=0.000100 for 10 consecutive epochs. Stopping.\n",
      "Accuracy: 0.75\n"
     ]
    },
    {
     "name": "stdout",
     "output_type": "stream",
     "text": [
      "Iteration 1, loss = 0.33382348\n",
      "Training loss did not improve more than tol=0.000100 for 10 consecutive epochs. Stopping.\n",
      "Accuracy: 0.9375\n",
      "Iteration 1, loss = 0.27169517\n",
      "Training loss did not improve more than tol=0.000100 for 10 consecutive epochs. Stopping.\n",
      "Accuracy: 0.9375\n",
      "Iteration 1, loss = 0.31343610\n",
      "Training loss did not improve more than tol=0.000100 for 10 consecutive epochs. Stopping.\n",
      "Accuracy: 0.9375\n",
      "Iteration 1, loss = 0.29901394\n",
      "Training loss did not improve more than tol=0.000100 for 10 consecutive epochs. Stopping.\n",
      "Accuracy: 0.9375\n",
      "Iteration 1, loss = 0.31068224\n",
      "Training loss did not improve more than tol=0.000100 for 10 consecutive epochs. Stopping.\n",
      "Accuracy: 0.9375\n"
     ]
    },
    {
     "name": "stdout",
     "output_type": "stream",
     "text": [
      "Iteration 1, loss = 0.29254607\n",
      "Training loss did not improve more than tol=0.000100 for 10 consecutive epochs. Stopping.\n",
      "Accuracy: 0.9375\n",
      "Iteration 1, loss = 0.30640806\n",
      "Training loss did not improve more than tol=0.000100 for 10 consecutive epochs. Stopping.\n",
      "Accuracy: 0.5625\n",
      "Iteration 1, loss = 0.29265684\n",
      "Training loss did not improve more than tol=0.000100 for 10 consecutive epochs. Stopping.\n",
      "Accuracy: 1.0\n",
      "Iteration 1, loss = 0.30580963\n",
      "Training loss did not improve more than tol=0.000100 for 10 consecutive epochs. Stopping.\n",
      "Accuracy: 0.875\n",
      "Iteration 1, loss = 0.34351309\n",
      "Training loss did not improve more than tol=0.000100 for 10 consecutive epochs. Stopping.\n",
      "Accuracy: 0.9375\n"
     ]
    },
    {
     "name": "stdout",
     "output_type": "stream",
     "text": [
      "Iteration 1, loss = 0.32600695\n",
      "Training loss did not improve more than tol=0.000100 for 10 consecutive epochs. Stopping.\n",
      "Accuracy: 0.8125\n",
      "Iteration 1, loss = 0.35681786\n",
      "Training loss did not improve more than tol=0.000100 for 10 consecutive epochs. Stopping.\n",
      "Accuracy: 0.8125\n",
      "Iteration 1, loss = 0.36521041\n",
      "Training loss did not improve more than tol=0.000100 for 10 consecutive epochs. Stopping.\n",
      "Accuracy: 0.875\n",
      "Iteration 1, loss = 0.26770398\n",
      "Training loss did not improve more than tol=0.000100 for 10 consecutive epochs. Stopping.\n",
      "Accuracy: 1.0\n",
      "Iteration 1, loss = 0.28805839\n",
      "Training loss did not improve more than tol=0.000100 for 10 consecutive epochs. Stopping.\n",
      "Accuracy: 0.9375\n"
     ]
    },
    {
     "name": "stdout",
     "output_type": "stream",
     "text": [
      "Iteration 1, loss = 0.35153854\n",
      "Training loss did not improve more than tol=0.000100 for 10 consecutive epochs. Stopping.\n",
      "Accuracy: 0.875\n",
      "Iteration 1, loss = 0.24604828\n",
      "Training loss did not improve more than tol=0.000100 for 10 consecutive epochs. Stopping.\n",
      "Accuracy: 0.875\n",
      "Iteration 1, loss = 0.24677714\n",
      "Training loss did not improve more than tol=0.000100 for 10 consecutive epochs. Stopping.\n",
      "Accuracy: 0.9375\n",
      "Iteration 1, loss = 0.26842457\n",
      "Training loss did not improve more than tol=0.000100 for 10 consecutive epochs. Stopping.\n",
      "Accuracy: 0.8125\n",
      "Iteration 1, loss = 0.28886874\n",
      "Training loss did not improve more than tol=0.000100 for 10 consecutive epochs. Stopping.\n",
      "Accuracy: 0.75\n",
      "Iteration 1, loss = 0.33909840\n",
      "Training loss did not improve more than tol=0.000100 for 10 consecutive epochs. Stopping.\n",
      "Accuracy: 1.0\n"
     ]
    },
    {
     "name": "stdout",
     "output_type": "stream",
     "text": [
      "Iteration 1, loss = 0.31778601\n",
      "Training loss did not improve more than tol=0.000100 for 10 consecutive epochs. Stopping.\n",
      "Accuracy: 0.9375\n",
      "Iteration 1, loss = 0.29514428\n",
      "Training loss did not improve more than tol=0.000100 for 10 consecutive epochs. Stopping.\n",
      "Accuracy: 0.875\n",
      "Iteration 1, loss = 0.27044629\n",
      "Training loss did not improve more than tol=0.000100 for 10 consecutive epochs. Stopping.\n",
      "Accuracy: 1.0\n",
      "Iteration 1, loss = 0.31708897\n",
      "Training loss did not improve more than tol=0.000100 for 10 consecutive epochs. Stopping.\n",
      "Accuracy: 0.875\n",
      "Iteration 1, loss = 0.38996505\n",
      "Training loss did not improve more than tol=0.000100 for 10 consecutive epochs. Stopping.\n",
      "Accuracy: 0.8125\n",
      "Iteration 1, loss = 0.33599557\n",
      "Training loss did not improve more than tol=0.000100 for 10 consecutive epochs. Stopping.\n",
      "Accuracy: 0.9375\n"
     ]
    },
    {
     "name": "stdout",
     "output_type": "stream",
     "text": [
      "Iteration 1, loss = 0.37715880\n",
      "Training loss did not improve more than tol=0.000100 for 10 consecutive epochs. Stopping.\n",
      "Accuracy: 0.8125\n",
      "Iteration 1, loss = 0.33448420\n",
      "Training loss did not improve more than tol=0.000100 for 10 consecutive epochs. Stopping.\n",
      "Accuracy: 0.75\n",
      "Iteration 1, loss = 0.34766906\n",
      "Training loss did not improve more than tol=0.000100 for 10 consecutive epochs. Stopping.\n",
      "Accuracy: 0.9375\n",
      "Iteration 1, loss = 0.35960368\n",
      "Training loss did not improve more than tol=0.000100 for 10 consecutive epochs. Stopping.\n",
      "Accuracy: 0.9375\n",
      "Iteration 1, loss = 0.32047473\n",
      "Training loss did not improve more than tol=0.000100 for 10 consecutive epochs. Stopping.\n",
      "Accuracy: 0.75\n"
     ]
    },
    {
     "name": "stdout",
     "output_type": "stream",
     "text": [
      "Iteration 1, loss = 0.30097593\n",
      "Training loss did not improve more than tol=0.000100 for 10 consecutive epochs. Stopping.\n",
      "Accuracy: 0.9375\n",
      "Iteration 1, loss = 0.26321330\n",
      "Training loss did not improve more than tol=0.000100 for 10 consecutive epochs. Stopping.\n",
      "Accuracy: 0.875\n",
      "Iteration 1, loss = 0.26830478\n",
      "Training loss did not improve more than tol=0.000100 for 10 consecutive epochs. Stopping.\n",
      "Accuracy: 0.875\n",
      "Iteration 1, loss = 0.36505336\n",
      "Training loss did not improve more than tol=0.000100 for 10 consecutive epochs. Stopping.\n",
      "Accuracy: 0.8125\n",
      "Iteration 1, loss = 0.26387508\n",
      "Training loss did not improve more than tol=0.000100 for 10 consecutive epochs. Stopping.\n",
      "Accuracy: 0.9375\n",
      "Iteration 1, loss = 0.26497259\n",
      "Training loss did not improve more than tol=0.000100 for 10 consecutive epochs. Stopping.\n",
      "Accuracy: 0.875\n",
      "Iteration 1, loss = 0.24010553\n",
      "Training loss did not improve more than tol=0.000100 for 10 consecutive epochs. Stopping.\n",
      "Accuracy: 0.8125\n"
     ]
    },
    {
     "name": "stdout",
     "output_type": "stream",
     "text": [
      "Iteration 1, loss = 0.29574111\n",
      "Training loss did not improve more than tol=0.000100 for 10 consecutive epochs. Stopping.\n",
      "Accuracy: 0.8125\n",
      "Iteration 1, loss = 0.28919040\n",
      "Training loss did not improve more than tol=0.000100 for 10 consecutive epochs. Stopping.\n",
      "Accuracy: 0.9375\n",
      "Iteration 1, loss = 0.33738400\n",
      "Training loss did not improve more than tol=0.000100 for 10 consecutive epochs. Stopping.\n",
      "Accuracy: 0.875\n",
      "Iteration 1, loss = 0.27458701\n",
      "Training loss did not improve more than tol=0.000100 for 10 consecutive epochs. Stopping.\n",
      "Accuracy: 0.875\n",
      "Iteration 1, loss = 0.29806165\n",
      "Training loss did not improve more than tol=0.000100 for 10 consecutive epochs. Stopping.\n",
      "Accuracy: 0.875\n",
      "Iteration 1, loss = 0.31315156\n",
      "Training loss did not improve more than tol=0.000100 for 10 consecutive epochs. Stopping.\n",
      "Accuracy: 0.6875\n"
     ]
    },
    {
     "name": "stdout",
     "output_type": "stream",
     "text": [
      "Iteration 1, loss = 0.28271910\n",
      "Training loss did not improve more than tol=0.000100 for 10 consecutive epochs. Stopping.\n",
      "Accuracy: 0.8125\n",
      "Iteration 1, loss = 0.29726146\n",
      "Training loss did not improve more than tol=0.000100 for 10 consecutive epochs. Stopping.\n",
      "Accuracy: 0.9375\n",
      "Iteration 1, loss = 0.27384683\n",
      "Training loss did not improve more than tol=0.000100 for 10 consecutive epochs. Stopping.\n",
      "Accuracy: 0.8125\n",
      "Iteration 1, loss = 0.32638458\n",
      "Training loss did not improve more than tol=0.000100 for 10 consecutive epochs. Stopping.\n",
      "Accuracy: 0.875\n"
     ]
    },
    {
     "name": "stdout",
     "output_type": "stream",
     "text": [
      "Iteration 1, loss = 0.31809062\n",
      "Training loss did not improve more than tol=0.000100 for 10 consecutive epochs. Stopping.\n",
      "Accuracy: 0.875\n",
      "Iteration 1, loss = 0.34619576\n",
      "Training loss did not improve more than tol=0.000100 for 10 consecutive epochs. Stopping.\n",
      "Accuracy: 0.9375\n",
      "Iteration 1, loss = 0.32252653\n",
      "Training loss did not improve more than tol=0.000100 for 10 consecutive epochs. Stopping.\n",
      "Accuracy: 0.8125\n",
      "Iteration 1, loss = 0.32330408\n",
      "Training loss did not improve more than tol=0.000100 for 10 consecutive epochs. Stopping.\n",
      "Accuracy: 0.9375\n",
      "Iteration 1, loss = 0.30615711\n",
      "Training loss did not improve more than tol=0.000100 for 10 consecutive epochs. Stopping.\n",
      "Accuracy: 0.6875\n"
     ]
    },
    {
     "name": "stdout",
     "output_type": "stream",
     "text": [
      "Iteration 1, loss = 0.25517588\n",
      "Training loss did not improve more than tol=0.000100 for 10 consecutive epochs. Stopping.\n",
      "Accuracy: 0.875\n",
      "Iteration 1, loss = 0.31708440\n",
      "Training loss did not improve more than tol=0.000100 for 10 consecutive epochs. Stopping.\n",
      "Accuracy: 0.875\n",
      "Iteration 1, loss = 0.35019641\n",
      "Training loss did not improve more than tol=0.000100 for 10 consecutive epochs. Stopping.\n",
      "Accuracy: 0.8125\n",
      "Iteration 1, loss = 0.26821396\n",
      "Training loss did not improve more than tol=0.000100 for 10 consecutive epochs. Stopping.\n",
      "Accuracy: 0.625\n",
      "Iteration 1, loss = 0.25528292\n",
      "Training loss did not improve more than tol=0.000100 for 10 consecutive epochs. Stopping.\n",
      "Accuracy: 0.8125\n"
     ]
    },
    {
     "name": "stdout",
     "output_type": "stream",
     "text": [
      "Iteration 1, loss = 0.29393500\n",
      "Training loss did not improve more than tol=0.000100 for 10 consecutive epochs. Stopping.\n",
      "Accuracy: 0.875\n",
      "Iteration 1, loss = 0.36403192\n",
      "Training loss did not improve more than tol=0.000100 for 10 consecutive epochs. Stopping.\n",
      "Accuracy: 1.0\n",
      "Iteration 1, loss = 0.28788240\n",
      "Training loss did not improve more than tol=0.000100 for 10 consecutive epochs. Stopping.\n",
      "Accuracy: 1.0\n",
      "Iteration 1, loss = 0.28408698\n",
      "Training loss did not improve more than tol=0.000100 for 10 consecutive epochs. Stopping.\n",
      "Accuracy: 0.75\n",
      "Iteration 1, loss = 0.28521845\n",
      "Training loss did not improve more than tol=0.000100 for 10 consecutive epochs. Stopping.\n",
      "Accuracy: 0.8125\n",
      "Iteration 1, loss = 0.32143389\n",
      "Training loss did not improve more than tol=0.000100 for 10 consecutive epochs. Stopping.\n",
      "Accuracy: 0.9375\n"
     ]
    },
    {
     "name": "stdout",
     "output_type": "stream",
     "text": [
      "Iteration 1, loss = 0.30561562\n",
      "Training loss did not improve more than tol=0.000100 for 10 consecutive epochs. Stopping.\n",
      "Accuracy: 0.875\n",
      "Iteration 1, loss = 0.33609540\n",
      "Training loss did not improve more than tol=0.000100 for 10 consecutive epochs. Stopping.\n",
      "Accuracy: 0.8125\n",
      "Iteration 1, loss = 0.26389264\n",
      "Training loss did not improve more than tol=0.000100 for 10 consecutive epochs. Stopping.\n",
      "Accuracy: 0.9375\n",
      "Iteration 1, loss = 0.33351609\n",
      "Training loss did not improve more than tol=0.000100 for 10 consecutive epochs. Stopping.\n",
      "Accuracy: 0.875\n",
      "Iteration 1, loss = 0.33594975\n",
      "Training loss did not improve more than tol=0.000100 for 10 consecutive epochs. Stopping.\n",
      "Accuracy: 0.875\n"
     ]
    },
    {
     "name": "stdout",
     "output_type": "stream",
     "text": [
      "Iteration 1, loss = 0.32904513\n",
      "Training loss did not improve more than tol=0.000100 for 10 consecutive epochs. Stopping.\n",
      "Accuracy: 0.8125\n",
      "Iteration 1, loss = 0.41529830\n",
      "Training loss did not improve more than tol=0.000100 for 10 consecutive epochs. Stopping.\n",
      "Accuracy: 0.625\n",
      "Iteration 1, loss = 0.32728852\n",
      "Training loss did not improve more than tol=0.000100 for 10 consecutive epochs. Stopping.\n",
      "Accuracy: 0.6875\n",
      "Iteration 1, loss = 0.27813794\n",
      "Training loss did not improve more than tol=0.000100 for 10 consecutive epochs. Stopping.\n",
      "Accuracy: 1.0\n",
      "Iteration 1, loss = 0.26890871\n",
      "Training loss did not improve more than tol=0.000100 for 10 consecutive epochs. Stopping.\n",
      "Accuracy: 0.8125\n"
     ]
    },
    {
     "name": "stdout",
     "output_type": "stream",
     "text": [
      "Iteration 1, loss = 0.16499810\n",
      "Accuracy: 0.936\n"
     ]
    },
    {
     "name": "stdout",
     "output_type": "stream",
     "text": [
      "Iteration 1, loss = 0.22934368\n",
      "Accuracy: 0.89\n"
     ]
    },
    {
     "name": "stdout",
     "output_type": "stream",
     "text": [
      "Iteration 1, loss = 0.16683318\n",
      "Accuracy: 0.926\n"
     ]
    },
    {
     "name": "stdout",
     "output_type": "stream",
     "text": [
      "Iteration 1, loss = 0.22210650\n",
      "Accuracy: 0.914\n"
     ]
    },
    {
     "name": "stdout",
     "output_type": "stream",
     "text": [
      "Iteration 1, loss = 0.20361029\n",
      "Accuracy: 0.93\n"
     ]
    },
    {
     "name": "stdout",
     "output_type": "stream",
     "text": [
      "Iteration 1, loss = 0.20011299\n",
      "Accuracy: 0.915\n"
     ]
    },
    {
     "name": "stdout",
     "output_type": "stream",
     "text": [
      "Iteration 1, loss = 0.19937842\n",
      "Accuracy: 0.925\n"
     ]
    },
    {
     "name": "stdout",
     "output_type": "stream",
     "text": [
      "Iteration 1, loss = 0.20044782\n",
      "Accuracy: 0.935\n",
      "Not enough training examples for GSE148504 SRR11538631\n",
      "The mean accuracy on the training datasets is: 0.8707682091955324\n"
     ]
    }
   ],
   "source": [
    "\n",
    "polya_mlp = MLPClassifier(hidden_layer_sizes=(100,), max_iter=500, alpha=1e-4,\n",
    "                    solver='adam', verbose=10, random_state=random_seed, shuffle=True,\n",
    "                    learning_rate_init=.001)\n",
    "\n",
    "held_out_polya = sp.csr_matrix((0, 150))\n",
    "held_out_polya_bg = sp.csr_matrix((0, 150)) \n",
    "\n",
    "random.seed(random_seed)\n",
    "train_list = PE_sheet.loc[PE_sheet['GSE'].isin(random.sample(PE_sheet['GSE'].unique().tolist(), 8))]\n",
    "num_srr = {GSE: group_gse_lst.shape[0] for (GSE, group_gse_lst) in train_list.groupby('GSE')}\n",
    "# initialize the sparse matrix \n",
    "training_batch = sp.csr_matrix((0, 150))\n",
    "held_out_polya_bg = sp.csr_matrix((0, 150)) \n",
    "\n",
    "training_data_acc_list = []\n",
    "\n",
    "# we group by GSE, then loop through SRRs to get the polya seq\n",
    "for i, (GSE, group_gse_lst) in enumerate(train_list.groupby('GSE')):\n",
    "    SRR_lst = group_gse_lst['SRR']\n",
    "    num_held_out = 1000//len(SRR_lst)\n",
    "    \n",
    "    for SRR in SRR_lst:\n",
    "        # The 30 bases are defined according to R2. So, they should always be polyA\n",
    "\n",
    "        polya_path = os.path.join(\n",
    "            parent_dir, \"process_data\", \"frag_len_dist\", GSE, SRR, \"priming_site_seqs\", \"polya_seq.txt\")\n",
    "        bg_path = os.path.join(\n",
    "            parent_dir, \"process_data\", \"frag_len_dist\", GSE, SRR, \"priming_site_seqs\", \"polya_bg_seq.txt\")\n",
    "\n",
    "        # get polya and bg seq\n",
    "        # we want to make sure the polya seq has a polyA six mer with at most one mismatch\n",
    "        polya_batch = encoder.fit_transform([list(x.strip()) for x in open(polya_path).readlines() if len(x.strip()) == 30 and regex.search(\"A(\" + 'A' * (snr_len-2)+ \"){s<=\" + str(snr_mismatch) +\"}A\", x.strip())])\n",
    "        # polya_batch = encoder.fit_transform([list(x.strip()) for x in open(polya_path).readlines() if len(x.strip()) == 30])\n",
    "        \n",
    "        # if we do not have enough data, then skip this SRR\n",
    "        if polya_batch.shape[0] < num_held_out * 2:\n",
    "            print(\"Not enough training examples for\", GSE, SRR)\n",
    "            continue\n",
    "        \n",
    "        bg_batch = encoder.fit_transform([list(x.strip()) for x in open(bg_path).readlines() if len(x.strip()) == 30])\n",
    "        \n",
    "        # if we do not have enough data, then skip this SRR\n",
    "        if bg_batch.shape[0] < num_held_out * 2:\n",
    "            print(\"Not enough background examples for\", GSE, SRR)\n",
    "            continue\n",
    "        \n",
    "        # num_held_out = min(math.ceil(polya_batch.shape[0] * 0.1), 20)\n",
    "        num_train_fg = polya_batch.shape[0]\n",
    "        num_train_bg = min(num_train_fg, bg_batch.shape[0])\n",
    "\n",
    "        polya_batch = polya_batch[np.random.randint(0, polya_batch.shape[0], size = num_train_fg), : ]\n",
    "        bg_batch = bg_batch[np.random.randint(0, bg_batch.shape[0], size = num_train_bg), : ]\n",
    "\n",
    "        # append held out data\n",
    "        polya_held_out = polya_batch[:num_held_out,]\n",
    "        bg_held_out = bg_batch[:num_held_out,]\n",
    "        \n",
    "        held_out_polya = sp.vstack([held_out_polya, polya_held_out])\n",
    "        held_out_polya_bg = sp.vstack([held_out_polya_bg, bg_held_out])\n",
    "        \n",
    "        fg_shuf_id = np.arange((num_train_fg+num_train_bg-num_held_out*2))\n",
    "        np.random.shuffle(fg_shuf_id)\n",
    "\n",
    "        # build training data\n",
    "        train_polya = sp.vstack([\n",
    "            polya_batch[num_held_out:],\n",
    "            bg_batch[num_held_out:]\n",
    "        ])[fg_shuf_id,:]\n",
    "        \n",
    "        del polya_batch\n",
    "        del bg_batch\n",
    "        \n",
    "        label_polya = np.hstack([\n",
    "            np.ones(num_train_fg - num_held_out), \n",
    "            np.zeros(num_train_bg - num_held_out)\n",
    "        ])[fg_shuf_id]\n",
    "        \n",
    "        # fit the model using the data from this SRR\n",
    "        polya_mlp.partial_fit(\n",
    "            train_polya,\n",
    "            label_polya,\n",
    "            classes=[0,1]\n",
    "        )\n",
    "        \n",
    "        acc = accuracy_score(\n",
    "            np.hstack(\n",
    "                [np.ones(num_held_out), \n",
    "                np.zeros(num_held_out)\n",
    "                ]\n",
    "            ), \n",
    "            polya_mlp.predict(\n",
    "                sp.vstack([\n",
    "                    polya_held_out, \n",
    "                    bg_held_out]\n",
    "                )\n",
    "            )\n",
    "        )\n",
    "        training_data_acc_list.append(acc)\n",
    "        # get the accuracy on the held out data\n",
    "        print(\"Accuracy:\", acc\n",
    "        )\n",
    "\n",
    "print(\"The mean accuracy on the training datasets is:\", sum(training_data_acc_list)/len(training_data_acc_list))\n"
   ]
  },
  {
   "cell_type": "code",
   "execution_count": 4,
   "metadata": {
    "execution": {
     "iopub.execute_input": "2024-01-31T16:43:59.904959Z",
     "iopub.status.busy": "2024-01-31T16:43:59.904796Z",
     "iopub.status.idle": "2024-01-31T16:43:59.937861Z",
     "shell.execute_reply": "2024-01-31T16:43:59.937517Z"
    }
   },
   "outputs": [
    {
     "name": "stdout",
     "output_type": "stream",
     "text": [
      "The mean accuracy on the holdout training examples is : 0.8635951270088128\n"
     ]
    }
   ],
   "source": [
    "\n",
    "# finally, we want to get the overall accuracy on all held out data\n",
    "predictions = polya_mlp.predict(sp.vstack([held_out_polya, held_out_polya_bg]) )\n",
    "print(\"The mean accuracy on the holdout training examples is :\", accuracy_score(np.hstack([np.ones(held_out_polya.shape[0]), np.zeros(held_out_polya_bg.shape[0])]), predictions))\n"
   ]
  },
  {
   "cell_type": "code",
   "execution_count": 5,
   "metadata": {
    "execution": {
     "iopub.execute_input": "2024-01-31T16:43:59.939492Z",
     "iopub.status.busy": "2024-01-31T16:43:59.939355Z",
     "iopub.status.idle": "2024-01-31T16:55:53.235189Z",
     "shell.execute_reply": "2024-01-31T16:55:53.234757Z"
    }
   },
   "outputs": [
    {
     "name": "stdout",
     "output_type": "stream",
     "text": [
      "Accuracy: 0.8890777242229756\n"
     ]
    },
    {
     "name": "stdout",
     "output_type": "stream",
     "text": [
      "Accuracy: 0.8802900907488554\n"
     ]
    },
    {
     "name": "stdout",
     "output_type": "stream",
     "text": [
      "Accuracy: 0.8788523114652818\n"
     ]
    },
    {
     "name": "stdout",
     "output_type": "stream",
     "text": [
      "Accuracy: 0.8890574450387473\n"
     ]
    },
    {
     "name": "stdout",
     "output_type": "stream",
     "text": [
      "Accuracy: 0.8844824799553176\n"
     ]
    },
    {
     "name": "stdout",
     "output_type": "stream",
     "text": [
      "Accuracy: 0.8868484848151765\n"
     ]
    },
    {
     "name": "stdout",
     "output_type": "stream",
     "text": [
      "Accuracy: 0.8887398646135535\n"
     ]
    },
    {
     "name": "stdout",
     "output_type": "stream",
     "text": [
      "Accuracy: 0.8865105081756116\n"
     ]
    },
    {
     "name": "stdout",
     "output_type": "stream",
     "text": [
      "Accuracy: 0.8901097556038253\n"
     ]
    },
    {
     "name": "stdout",
     "output_type": "stream",
     "text": [
      "Accuracy: 0.8198358564853324\n"
     ]
    },
    {
     "name": "stdout",
     "output_type": "stream",
     "text": [
      "Accuracy: 0.8423008967563423\n"
     ]
    },
    {
     "name": "stdout",
     "output_type": "stream",
     "text": [
      "Accuracy: 0.778667760810618\n",
      "The mean accuracy on the test datasets is: 0.8678977648909697\n"
     ]
    }
   ],
   "source": [
    "\n",
    "# we a;sp also want to test the accuracy on test data\n",
    "# we read in the test data\n",
    "test_list = PE_sheet.loc[~PE_sheet['GSE'].isin(random.sample(PE_sheet['GSE'].unique().tolist(), 8))]\n",
    "test_acc_list = []\n",
    "# we group by GSE, then loop through SRRs to get the polya seq\n",
    "for i, (GSE, group_gse_lst) in enumerate(test_list.groupby('GSE')):\n",
    "    SRR_lst = group_gse_lst['SRR']\n",
    "    for SRR in SRR_lst:\n",
    "        # The 30 bases are defined according to R2. So, they should always be polyA\n",
    "\n",
    "        polya_path = os.path.join(\n",
    "            parent_dir, \"process_data\", \"frag_len_dist\", GSE, SRR, \"priming_site_seqs\", \"polya_seq.txt\")\n",
    "        bg_path = os.path.join(\n",
    "            parent_dir, \"process_data\", \"frag_len_dist\", GSE, SRR, \"priming_site_seqs\", \"polya_bg_seq.txt\")\n",
    "\n",
    "        # get polya and bg seq\n",
    "        # we want to make sure the polya seq has a polyA six mer with at most one mismatch\n",
    "        polya_batch = encoder.fit_transform([list(x.strip()) for x in open(polya_path).readlines() if len(x.strip()) == 30 and regex.search(\"A(\" + 'A' * (snr_len-2)+ \"){s<=\" + str(snr_mismatch) +\"}A\", x.strip())])\n",
    "        # polya_batch = encoder.fit_transform([list(x.strip()) for x in open(polya_path).readlines() if len(x.strip()) == 30])\n",
    "        \n",
    "        # if we do not have enough data, then skip this SRR\n",
    "        if polya_batch.shape[0] < num_held_out * 2:\n",
    "            print(\"Not enough training examples for\", GSE, SRR)\n",
    "            continue\n",
    "        \n",
    "        bg_batch = encoder.fit_transform([list(x.strip()) for x in open(bg_path).readlines() if len(x.strip()) == 30])\n",
    "        \n",
    "        # if we do not have enough data, then skip this SRR\n",
    "        if bg_batch.shape[0] < num_held_out * 2:\n",
    "            print(\"Not enough background examples for\", GSE, SRR)\n",
    "            continue\n",
    "        \n",
    "        # build training data\n",
    "        train_polya = sp.vstack([\n",
    "            polya_batch[random.sample(range(polya_batch.shape[0]), min(polya_batch.shape[0], bg_batch.shape[0])), : ],\n",
    "            bg_batch[random.sample(range(bg_batch.shape[0]), min(polya_batch.shape[0], bg_batch.shape[0])), : ]\n",
    "        ])\n",
    "        label_polya = np.hstack([\n",
    "            np.ones(min(polya_batch.shape[0], bg_batch.shape[0])), \n",
    "            np.zeros(min(polya_batch.shape[0], bg_batch.shape[0]))\n",
    "        ])\n",
    "        \n",
    "        \n",
    "        del polya_batch\n",
    "        del bg_batch\n",
    "        \n",
    "        # get the accuracy on the held out data\n",
    "        acc_scores = accuracy_score(\n",
    "            label_polya, \n",
    "            polya_mlp.predict(\n",
    "                train_polya\n",
    "            )\n",
    "        )\n",
    "        test_acc_list.append(acc_scores)\n",
    "        \n",
    "        print(\"Accuracy:\", acc_scores)\n",
    "\n",
    "\n",
    "print(\"The mean accuracy on the test datasets is:\", sum(test_acc_list)/len(test_acc_list))\n",
    "\n"
   ]
  },
  {
   "cell_type": "code",
   "execution_count": 6,
   "metadata": {
    "execution": {
     "iopub.execute_input": "2024-01-31T16:55:53.236994Z",
     "iopub.status.busy": "2024-01-31T16:55:53.236803Z",
     "iopub.status.idle": "2024-01-31T16:55:53.246912Z",
     "shell.execute_reply": "2024-01-31T16:55:53.246598Z"
    }
   },
   "outputs": [],
   "source": [
    "\n",
    "model_pkl_path = os.path.join(outdir, 'mlp.pkl')\n",
    "with open(model_pkl_path, 'wb') as file_model:\n",
    "    pickle.dump(polya_mlp, file_model)"
   ]
  }
 ],
 "metadata": {
  "language_info": {
   "codemirror_mode": {
    "name": "ipython",
    "version": 3
   },
   "file_extension": ".py",
   "mimetype": "text/x-python",
   "name": "python",
   "nbconvert_exporter": "python",
   "pygments_lexer": "ipython3",
   "version": "3.10.13"
  }
 },
 "nbformat": 4,
 "nbformat_minor": 2
}
